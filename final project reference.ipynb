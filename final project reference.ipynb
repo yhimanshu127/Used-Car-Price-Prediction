{
 "cells": [
  {
   "cell_type": "markdown",
   "id": "6e459c82",
   "metadata": {},
   "source": [
    "# Importing Libraries"
   ]
  },
  {
   "cell_type": "code",
   "execution_count": null,
   "id": "29f3a500",
   "metadata": {},
   "outputs": [],
   "source": [
    "import pandas as pd\n",
    "import matplotlib.pyplot as plt\n",
    "import seaborn as sns\n",
    "from scipy import stats\n",
    "import numpy  as np\n",
    "from sklearn.model_selection import train_test_split\n",
    "from sklearn.preprocessing import OneHotEncoder\n",
    "from sklearn.preprocessing import StandardScaler\n",
    "from sklearn.tree import DecisionTreeClassifier\n",
    "from sklearn.preprocessing import OrdinalEncoder\n",
    "from sklearn.neighbors import KNeighborsRegressor\n",
    "from sklearn.pipeline import Pipeline,make_pipeline\n",
    "from sklearn.feature_selection import SelectKBest,chi2\n",
    "from sklearn.tree import DecisionTreeClassifier\n",
    "from sklearn.compose import ColumnTransformer\n",
    "from sklearn.model_selection import GridSearchCV\n",
    "from sklearn.metrics import accuracy_score\n",
    "from sklearn.model_selection import cross_val_score\n",
    "from sklearn import set_config\n",
    "import pickle\n",
    "from sklearn .tree import DecisionTreeRegressor\n",
    "from sklearn import tree\n"
   ]
  },
  {
   "cell_type": "code",
   "execution_count": null,
   "id": "396b890b",
   "metadata": {},
   "outputs": [],
   "source": [
    "from sklearn.neighbors import KNeighborsRegressor\n"
   ]
  },
  {
   "cell_type": "code",
   "execution_count": 2,
   "id": "66988f63",
   "metadata": {},
   "outputs": [],
   "source": [
    "\n",
    "\n",
    "raw_data = pd.read_csv(\"https://raw.githubusercontent.com/Defcon27/Data-Analysis-of-Indian-Automobile-dataset-using-Machine-Learning-in-R/master/indian-auto-mpg.csv\")"
   ]
  },
  {
   "cell_type": "markdown",
   "id": "f4033001",
   "metadata": {},
   "source": [
    "## Loading the raw data\n"
   ]
  },
  {
   "cell_type": "code",
   "execution_count": 3,
   "id": "d5baedda",
   "metadata": {},
   "outputs": [
    {
     "data": {
      "text/html": [
       "<div>\n",
       "<style scoped>\n",
       "    .dataframe tbody tr th:only-of-type {\n",
       "        vertical-align: middle;\n",
       "    }\n",
       "\n",
       "    .dataframe tbody tr th {\n",
       "        vertical-align: top;\n",
       "    }\n",
       "\n",
       "    .dataframe thead th {\n",
       "        text-align: right;\n",
       "    }\n",
       "</style>\n",
       "<table border=\"1\" class=\"dataframe\">\n",
       "  <thead>\n",
       "    <tr style=\"text-align: right;\">\n",
       "      <th></th>\n",
       "      <th>Unnamed: 0</th>\n",
       "      <th>Name</th>\n",
       "      <th>Manufacturer</th>\n",
       "      <th>Location</th>\n",
       "      <th>Year</th>\n",
       "      <th>Kilometers_Driven</th>\n",
       "      <th>Fuel_Type</th>\n",
       "      <th>Transmission</th>\n",
       "      <th>Owner_Type</th>\n",
       "      <th>Engine CC</th>\n",
       "      <th>Power</th>\n",
       "      <th>Seats</th>\n",
       "      <th>Mileage Km/L</th>\n",
       "      <th>Price</th>\n",
       "    </tr>\n",
       "  </thead>\n",
       "  <tbody>\n",
       "    <tr>\n",
       "      <th>0</th>\n",
       "      <td>0</td>\n",
       "      <td>Maruti Wagon R LXI CNG</td>\n",
       "      <td>Maruti</td>\n",
       "      <td>Mumbai</td>\n",
       "      <td>2010</td>\n",
       "      <td>72000</td>\n",
       "      <td>CNG</td>\n",
       "      <td>Manual</td>\n",
       "      <td>First</td>\n",
       "      <td>998</td>\n",
       "      <td>58.16</td>\n",
       "      <td>5</td>\n",
       "      <td>26.60</td>\n",
       "      <td>1.75</td>\n",
       "    </tr>\n",
       "    <tr>\n",
       "      <th>1</th>\n",
       "      <td>1</td>\n",
       "      <td>Hyundai Creta 1.6 CRDi SX Option</td>\n",
       "      <td>Hyundai</td>\n",
       "      <td>Pune</td>\n",
       "      <td>2015</td>\n",
       "      <td>41000</td>\n",
       "      <td>Diesel</td>\n",
       "      <td>Manual</td>\n",
       "      <td>First</td>\n",
       "      <td>1582</td>\n",
       "      <td>126.20</td>\n",
       "      <td>5</td>\n",
       "      <td>19.67</td>\n",
       "      <td>12.50</td>\n",
       "    </tr>\n",
       "    <tr>\n",
       "      <th>2</th>\n",
       "      <td>2</td>\n",
       "      <td>Honda Jazz V</td>\n",
       "      <td>Honda</td>\n",
       "      <td>Chennai</td>\n",
       "      <td>2011</td>\n",
       "      <td>46000</td>\n",
       "      <td>Petrol</td>\n",
       "      <td>Manual</td>\n",
       "      <td>First</td>\n",
       "      <td>1199</td>\n",
       "      <td>88.70</td>\n",
       "      <td>5</td>\n",
       "      <td>18.20</td>\n",
       "      <td>4.50</td>\n",
       "    </tr>\n",
       "    <tr>\n",
       "      <th>3</th>\n",
       "      <td>3</td>\n",
       "      <td>Maruti Ertiga VDI</td>\n",
       "      <td>Maruti</td>\n",
       "      <td>Chennai</td>\n",
       "      <td>2012</td>\n",
       "      <td>87000</td>\n",
       "      <td>Diesel</td>\n",
       "      <td>Manual</td>\n",
       "      <td>First</td>\n",
       "      <td>1248</td>\n",
       "      <td>88.76</td>\n",
       "      <td>7</td>\n",
       "      <td>20.77</td>\n",
       "      <td>6.00</td>\n",
       "    </tr>\n",
       "    <tr>\n",
       "      <th>4</th>\n",
       "      <td>4</td>\n",
       "      <td>Audi A4 New 2.0 TDI Multitronic</td>\n",
       "      <td>Audi</td>\n",
       "      <td>Coimbatore</td>\n",
       "      <td>2013</td>\n",
       "      <td>40670</td>\n",
       "      <td>Diesel</td>\n",
       "      <td>Automatic</td>\n",
       "      <td>Second</td>\n",
       "      <td>1968</td>\n",
       "      <td>140.80</td>\n",
       "      <td>5</td>\n",
       "      <td>15.20</td>\n",
       "      <td>17.74</td>\n",
       "    </tr>\n",
       "  </tbody>\n",
       "</table>\n",
       "</div>"
      ],
      "text/plain": [
       "   Unnamed: 0                              Name Manufacturer    Location  \\\n",
       "0           0            Maruti Wagon R LXI CNG       Maruti      Mumbai   \n",
       "1           1  Hyundai Creta 1.6 CRDi SX Option      Hyundai        Pune   \n",
       "2           2                      Honda Jazz V        Honda     Chennai   \n",
       "3           3                 Maruti Ertiga VDI       Maruti     Chennai   \n",
       "4           4   Audi A4 New 2.0 TDI Multitronic         Audi  Coimbatore   \n",
       "\n",
       "   Year  Kilometers_Driven Fuel_Type Transmission Owner_Type  Engine CC  \\\n",
       "0  2010              72000       CNG       Manual      First        998   \n",
       "1  2015              41000    Diesel       Manual      First       1582   \n",
       "2  2011              46000    Petrol       Manual      First       1199   \n",
       "3  2012              87000    Diesel       Manual      First       1248   \n",
       "4  2013              40670    Diesel    Automatic     Second       1968   \n",
       "\n",
       "    Power  Seats  Mileage Km/L  Price  \n",
       "0   58.16      5         26.60   1.75  \n",
       "1  126.20      5         19.67  12.50  \n",
       "2   88.70      5         18.20   4.50  \n",
       "3   88.76      7         20.77   6.00  \n",
       "4  140.80      5         15.20  17.74  "
      ]
     },
     "execution_count": 3,
     "metadata": {},
     "output_type": "execute_result"
    }
   ],
   "source": [
    "raw_data.head(5)"
   ]
  },
  {
   "cell_type": "markdown",
   "id": "f0f693f6",
   "metadata": {},
   "source": [
    "## Preprocessing and Determining the variables of interest"
   ]
  },
  {
   "cell_type": "code",
   "execution_count": 4,
   "id": "ee5b1725",
   "metadata": {},
   "outputs": [],
   "source": [
    "raw_data = raw_data.drop(['Unnamed: 0','Name'],axis=1)"
   ]
  },
  {
   "cell_type": "code",
   "execution_count": 5,
   "id": "c04cec09",
   "metadata": {},
   "outputs": [
    {
     "data": {
      "text/html": [
       "<div>\n",
       "<style scoped>\n",
       "    .dataframe tbody tr th:only-of-type {\n",
       "        vertical-align: middle;\n",
       "    }\n",
       "\n",
       "    .dataframe tbody tr th {\n",
       "        vertical-align: top;\n",
       "    }\n",
       "\n",
       "    .dataframe thead th {\n",
       "        text-align: right;\n",
       "    }\n",
       "</style>\n",
       "<table border=\"1\" class=\"dataframe\">\n",
       "  <thead>\n",
       "    <tr style=\"text-align: right;\">\n",
       "      <th></th>\n",
       "      <th>Manufacturer</th>\n",
       "      <th>Location</th>\n",
       "      <th>Year</th>\n",
       "      <th>Kilometers_Driven</th>\n",
       "      <th>Fuel_Type</th>\n",
       "      <th>Transmission</th>\n",
       "      <th>Owner_Type</th>\n",
       "      <th>Engine CC</th>\n",
       "      <th>Power</th>\n",
       "      <th>Seats</th>\n",
       "      <th>Mileage Km/L</th>\n",
       "      <th>Price</th>\n",
       "    </tr>\n",
       "  </thead>\n",
       "  <tbody>\n",
       "    <tr>\n",
       "      <th>0</th>\n",
       "      <td>Maruti</td>\n",
       "      <td>Mumbai</td>\n",
       "      <td>2010</td>\n",
       "      <td>72000</td>\n",
       "      <td>CNG</td>\n",
       "      <td>Manual</td>\n",
       "      <td>First</td>\n",
       "      <td>998</td>\n",
       "      <td>58.16</td>\n",
       "      <td>5</td>\n",
       "      <td>26.60</td>\n",
       "      <td>1.75</td>\n",
       "    </tr>\n",
       "    <tr>\n",
       "      <th>1</th>\n",
       "      <td>Hyundai</td>\n",
       "      <td>Pune</td>\n",
       "      <td>2015</td>\n",
       "      <td>41000</td>\n",
       "      <td>Diesel</td>\n",
       "      <td>Manual</td>\n",
       "      <td>First</td>\n",
       "      <td>1582</td>\n",
       "      <td>126.20</td>\n",
       "      <td>5</td>\n",
       "      <td>19.67</td>\n",
       "      <td>12.50</td>\n",
       "    </tr>\n",
       "    <tr>\n",
       "      <th>2</th>\n",
       "      <td>Honda</td>\n",
       "      <td>Chennai</td>\n",
       "      <td>2011</td>\n",
       "      <td>46000</td>\n",
       "      <td>Petrol</td>\n",
       "      <td>Manual</td>\n",
       "      <td>First</td>\n",
       "      <td>1199</td>\n",
       "      <td>88.70</td>\n",
       "      <td>5</td>\n",
       "      <td>18.20</td>\n",
       "      <td>4.50</td>\n",
       "    </tr>\n",
       "    <tr>\n",
       "      <th>3</th>\n",
       "      <td>Maruti</td>\n",
       "      <td>Chennai</td>\n",
       "      <td>2012</td>\n",
       "      <td>87000</td>\n",
       "      <td>Diesel</td>\n",
       "      <td>Manual</td>\n",
       "      <td>First</td>\n",
       "      <td>1248</td>\n",
       "      <td>88.76</td>\n",
       "      <td>7</td>\n",
       "      <td>20.77</td>\n",
       "      <td>6.00</td>\n",
       "    </tr>\n",
       "    <tr>\n",
       "      <th>4</th>\n",
       "      <td>Audi</td>\n",
       "      <td>Coimbatore</td>\n",
       "      <td>2013</td>\n",
       "      <td>40670</td>\n",
       "      <td>Diesel</td>\n",
       "      <td>Automatic</td>\n",
       "      <td>Second</td>\n",
       "      <td>1968</td>\n",
       "      <td>140.80</td>\n",
       "      <td>5</td>\n",
       "      <td>15.20</td>\n",
       "      <td>17.74</td>\n",
       "    </tr>\n",
       "    <tr>\n",
       "      <th>...</th>\n",
       "      <td>...</td>\n",
       "      <td>...</td>\n",
       "      <td>...</td>\n",
       "      <td>...</td>\n",
       "      <td>...</td>\n",
       "      <td>...</td>\n",
       "      <td>...</td>\n",
       "      <td>...</td>\n",
       "      <td>...</td>\n",
       "      <td>...</td>\n",
       "      <td>...</td>\n",
       "      <td>...</td>\n",
       "    </tr>\n",
       "    <tr>\n",
       "      <th>5970</th>\n",
       "      <td>Maruti</td>\n",
       "      <td>Delhi</td>\n",
       "      <td>2014</td>\n",
       "      <td>27365</td>\n",
       "      <td>Diesel</td>\n",
       "      <td>Manual</td>\n",
       "      <td>First</td>\n",
       "      <td>1248</td>\n",
       "      <td>74.00</td>\n",
       "      <td>5</td>\n",
       "      <td>28.40</td>\n",
       "      <td>4.75</td>\n",
       "    </tr>\n",
       "    <tr>\n",
       "      <th>5971</th>\n",
       "      <td>Hyundai</td>\n",
       "      <td>Jaipur</td>\n",
       "      <td>2015</td>\n",
       "      <td>100000</td>\n",
       "      <td>Diesel</td>\n",
       "      <td>Manual</td>\n",
       "      <td>First</td>\n",
       "      <td>1120</td>\n",
       "      <td>71.00</td>\n",
       "      <td>5</td>\n",
       "      <td>24.40</td>\n",
       "      <td>4.00</td>\n",
       "    </tr>\n",
       "    <tr>\n",
       "      <th>5972</th>\n",
       "      <td>Mahindra</td>\n",
       "      <td>Jaipur</td>\n",
       "      <td>2012</td>\n",
       "      <td>55000</td>\n",
       "      <td>Diesel</td>\n",
       "      <td>Manual</td>\n",
       "      <td>Second</td>\n",
       "      <td>2498</td>\n",
       "      <td>112.00</td>\n",
       "      <td>8</td>\n",
       "      <td>14.00</td>\n",
       "      <td>2.90</td>\n",
       "    </tr>\n",
       "    <tr>\n",
       "      <th>5973</th>\n",
       "      <td>Maruti</td>\n",
       "      <td>Kolkata</td>\n",
       "      <td>2013</td>\n",
       "      <td>46000</td>\n",
       "      <td>Petrol</td>\n",
       "      <td>Manual</td>\n",
       "      <td>First</td>\n",
       "      <td>998</td>\n",
       "      <td>67.10</td>\n",
       "      <td>5</td>\n",
       "      <td>18.90</td>\n",
       "      <td>2.65</td>\n",
       "    </tr>\n",
       "    <tr>\n",
       "      <th>5974</th>\n",
       "      <td>Chevrolet</td>\n",
       "      <td>Hyderabad</td>\n",
       "      <td>2011</td>\n",
       "      <td>47000</td>\n",
       "      <td>Diesel</td>\n",
       "      <td>Manual</td>\n",
       "      <td>First</td>\n",
       "      <td>936</td>\n",
       "      <td>57.60</td>\n",
       "      <td>5</td>\n",
       "      <td>25.44</td>\n",
       "      <td>2.50</td>\n",
       "    </tr>\n",
       "  </tbody>\n",
       "</table>\n",
       "<p>5975 rows × 12 columns</p>\n",
       "</div>"
      ],
      "text/plain": [
       "     Manufacturer    Location  Year  Kilometers_Driven Fuel_Type Transmission  \\\n",
       "0          Maruti      Mumbai  2010              72000       CNG       Manual   \n",
       "1         Hyundai        Pune  2015              41000    Diesel       Manual   \n",
       "2           Honda     Chennai  2011              46000    Petrol       Manual   \n",
       "3          Maruti     Chennai  2012              87000    Diesel       Manual   \n",
       "4            Audi  Coimbatore  2013              40670    Diesel    Automatic   \n",
       "...           ...         ...   ...                ...       ...          ...   \n",
       "5970       Maruti       Delhi  2014              27365    Diesel       Manual   \n",
       "5971      Hyundai      Jaipur  2015             100000    Diesel       Manual   \n",
       "5972     Mahindra      Jaipur  2012              55000    Diesel       Manual   \n",
       "5973       Maruti     Kolkata  2013              46000    Petrol       Manual   \n",
       "5974    Chevrolet   Hyderabad  2011              47000    Diesel       Manual   \n",
       "\n",
       "     Owner_Type  Engine CC   Power  Seats  Mileage Km/L  Price  \n",
       "0         First        998   58.16      5         26.60   1.75  \n",
       "1         First       1582  126.20      5         19.67  12.50  \n",
       "2         First       1199   88.70      5         18.20   4.50  \n",
       "3         First       1248   88.76      7         20.77   6.00  \n",
       "4        Second       1968  140.80      5         15.20  17.74  \n",
       "...         ...        ...     ...    ...           ...    ...  \n",
       "5970      First       1248   74.00      5         28.40   4.75  \n",
       "5971      First       1120   71.00      5         24.40   4.00  \n",
       "5972     Second       2498  112.00      8         14.00   2.90  \n",
       "5973      First        998   67.10      5         18.90   2.65  \n",
       "5974      First        936   57.60      5         25.44   2.50  \n",
       "\n",
       "[5975 rows x 12 columns]"
      ]
     },
     "execution_count": 5,
     "metadata": {},
     "output_type": "execute_result"
    }
   ],
   "source": [
    "raw_data"
   ]
  },
  {
   "cell_type": "code",
   "execution_count": 6,
   "id": "c98419f9",
   "metadata": {},
   "outputs": [
    {
     "data": {
      "text/html": [
       "<div>\n",
       "<style scoped>\n",
       "    .dataframe tbody tr th:only-of-type {\n",
       "        vertical-align: middle;\n",
       "    }\n",
       "\n",
       "    .dataframe tbody tr th {\n",
       "        vertical-align: top;\n",
       "    }\n",
       "\n",
       "    .dataframe thead th {\n",
       "        text-align: right;\n",
       "    }\n",
       "</style>\n",
       "<table border=\"1\" class=\"dataframe\">\n",
       "  <thead>\n",
       "    <tr style=\"text-align: right;\">\n",
       "      <th></th>\n",
       "      <th>Year</th>\n",
       "      <th>Kilometers_Driven</th>\n",
       "      <th>Engine CC</th>\n",
       "      <th>Power</th>\n",
       "      <th>Seats</th>\n",
       "      <th>Mileage Km/L</th>\n",
       "      <th>Price</th>\n",
       "    </tr>\n",
       "  </thead>\n",
       "  <tbody>\n",
       "    <tr>\n",
       "      <th>count</th>\n",
       "      <td>5975.000000</td>\n",
       "      <td>5.975000e+03</td>\n",
       "      <td>5975.000000</td>\n",
       "      <td>5975.000000</td>\n",
       "      <td>5975.000000</td>\n",
       "      <td>5975.000000</td>\n",
       "      <td>5975.000000</td>\n",
       "    </tr>\n",
       "    <tr>\n",
       "      <th>mean</th>\n",
       "      <td>2013.386778</td>\n",
       "      <td>5.867431e+04</td>\n",
       "      <td>1621.606695</td>\n",
       "      <td>112.599819</td>\n",
       "      <td>5.278828</td>\n",
       "      <td>18.179408</td>\n",
       "      <td>9.501647</td>\n",
       "    </tr>\n",
       "    <tr>\n",
       "      <th>std</th>\n",
       "      <td>3.247238</td>\n",
       "      <td>9.155851e+04</td>\n",
       "      <td>601.036987</td>\n",
       "      <td>53.659495</td>\n",
       "      <td>0.808959</td>\n",
       "      <td>4.521801</td>\n",
       "      <td>11.205736</td>\n",
       "    </tr>\n",
       "    <tr>\n",
       "      <th>min</th>\n",
       "      <td>1998.000000</td>\n",
       "      <td>1.710000e+02</td>\n",
       "      <td>624.000000</td>\n",
       "      <td>34.200000</td>\n",
       "      <td>0.000000</td>\n",
       "      <td>0.000000</td>\n",
       "      <td>0.440000</td>\n",
       "    </tr>\n",
       "    <tr>\n",
       "      <th>25%</th>\n",
       "      <td>2012.000000</td>\n",
       "      <td>3.390800e+04</td>\n",
       "      <td>1198.000000</td>\n",
       "      <td>74.000000</td>\n",
       "      <td>5.000000</td>\n",
       "      <td>15.200000</td>\n",
       "      <td>3.500000</td>\n",
       "    </tr>\n",
       "    <tr>\n",
       "      <th>50%</th>\n",
       "      <td>2014.000000</td>\n",
       "      <td>5.300000e+04</td>\n",
       "      <td>1493.000000</td>\n",
       "      <td>92.700000</td>\n",
       "      <td>5.000000</td>\n",
       "      <td>18.160000</td>\n",
       "      <td>5.650000</td>\n",
       "    </tr>\n",
       "    <tr>\n",
       "      <th>75%</th>\n",
       "      <td>2016.000000</td>\n",
       "      <td>7.300000e+04</td>\n",
       "      <td>1984.000000</td>\n",
       "      <td>138.100000</td>\n",
       "      <td>5.000000</td>\n",
       "      <td>21.100000</td>\n",
       "      <td>9.950000</td>\n",
       "    </tr>\n",
       "    <tr>\n",
       "      <th>max</th>\n",
       "      <td>2019.000000</td>\n",
       "      <td>6.500000e+06</td>\n",
       "      <td>5998.000000</td>\n",
       "      <td>560.000000</td>\n",
       "      <td>10.000000</td>\n",
       "      <td>33.540000</td>\n",
       "      <td>160.000000</td>\n",
       "    </tr>\n",
       "  </tbody>\n",
       "</table>\n",
       "</div>"
      ],
      "text/plain": [
       "              Year  Kilometers_Driven    Engine CC        Power        Seats  \\\n",
       "count  5975.000000       5.975000e+03  5975.000000  5975.000000  5975.000000   \n",
       "mean   2013.386778       5.867431e+04  1621.606695   112.599819     5.278828   \n",
       "std       3.247238       9.155851e+04   601.036987    53.659495     0.808959   \n",
       "min    1998.000000       1.710000e+02   624.000000    34.200000     0.000000   \n",
       "25%    2012.000000       3.390800e+04  1198.000000    74.000000     5.000000   \n",
       "50%    2014.000000       5.300000e+04  1493.000000    92.700000     5.000000   \n",
       "75%    2016.000000       7.300000e+04  1984.000000   138.100000     5.000000   \n",
       "max    2019.000000       6.500000e+06  5998.000000   560.000000    10.000000   \n",
       "\n",
       "       Mileage Km/L        Price  \n",
       "count   5975.000000  5975.000000  \n",
       "mean      18.179408     9.501647  \n",
       "std        4.521801    11.205736  \n",
       "min        0.000000     0.440000  \n",
       "25%       15.200000     3.500000  \n",
       "50%       18.160000     5.650000  \n",
       "75%       21.100000     9.950000  \n",
       "max       33.540000   160.000000  "
      ]
     },
     "execution_count": 6,
     "metadata": {},
     "output_type": "execute_result"
    }
   ],
   "source": [
    "raw_data.describe()"
   ]
  },
  {
   "cell_type": "code",
   "execution_count": 7,
   "id": "9574e4c5",
   "metadata": {},
   "outputs": [
    {
     "data": {
      "text/plain": [
       "Maruti          1197\n",
       "Hyundai         1100\n",
       "Honda            601\n",
       "Toyota           409\n",
       "MercedesBenz     318\n",
       "Volkswagen       315\n",
       "Ford             298\n",
       "Mahindra         271\n",
       "BMW              262\n",
       "Audi             236\n",
       "Tata             186\n",
       "Skoda            173\n",
       "Renault          145\n",
       "Chevrolet        121\n",
       "Nissan            91\n",
       "Land              57\n",
       "Jaguar            40\n",
       "Mitsubishi        27\n",
       "Mini              26\n",
       "Fiat              25\n",
       "Volvo             21\n",
       "Porsche           18\n",
       "Jeep              15\n",
       "Datsun            13\n",
       "Force              3\n",
       "ISUZU              2\n",
       "Smart              1\n",
       "Ambassador         1\n",
       "Isuzu              1\n",
       "Bentley            1\n",
       "Lamborghini        1\n",
       "Name: Manufacturer, dtype: int64"
      ]
     },
     "execution_count": 7,
     "metadata": {},
     "output_type": "execute_result"
    }
   ],
   "source": [
    "raw_data['Manufacturer'].value_counts()"
   ]
  },
  {
   "cell_type": "markdown",
   "id": "64fc1f05",
   "metadata": {},
   "source": [
    "### Removing Manufacturers which have less than 10 cars"
   ]
  },
  {
   "cell_type": "code",
   "execution_count": 8,
   "id": "632c684c",
   "metadata": {},
   "outputs": [],
   "source": [
    "counts = raw_data.Manufacturer.value_counts()\n",
    "\n",
    "raw_data = raw_data[raw_data.Manufacturer.isin(counts[counts > 3].index)]"
   ]
  },
  {
   "cell_type": "code",
   "execution_count": 9,
   "id": "f8af17cf",
   "metadata": {},
   "outputs": [
    {
     "data": {
      "text/plain": [
       "Maruti          1197\n",
       "Hyundai         1100\n",
       "Honda            601\n",
       "Toyota           409\n",
       "MercedesBenz     318\n",
       "Volkswagen       315\n",
       "Ford             298\n",
       "Mahindra         271\n",
       "BMW              262\n",
       "Audi             236\n",
       "Tata             186\n",
       "Skoda            173\n",
       "Renault          145\n",
       "Chevrolet        121\n",
       "Nissan            91\n",
       "Land              57\n",
       "Jaguar            40\n",
       "Mitsubishi        27\n",
       "Mini              26\n",
       "Fiat              25\n",
       "Volvo             21\n",
       "Porsche           18\n",
       "Jeep              15\n",
       "Datsun            13\n",
       "Name: Manufacturer, dtype: int64"
      ]
     },
     "execution_count": 9,
     "metadata": {},
     "output_type": "execute_result"
    }
   ],
   "source": [
    "raw_data['Manufacturer'].value_counts()"
   ]
  },
  {
   "cell_type": "markdown",
   "id": "8970df0d",
   "metadata": {},
   "source": [
    "### Dealing with missing values\n"
   ]
  },
  {
   "cell_type": "code",
   "execution_count": 10,
   "id": "d05f3f7b",
   "metadata": {},
   "outputs": [
    {
     "data": {
      "text/plain": [
       "Manufacturer         0\n",
       "Location             0\n",
       "Year                 0\n",
       "Kilometers_Driven    0\n",
       "Fuel_Type            0\n",
       "Transmission         0\n",
       "Owner_Type           0\n",
       "Engine CC            0\n",
       "Power                0\n",
       "Seats                0\n",
       "Mileage Km/L         0\n",
       "Price                0\n",
       "dtype: int64"
      ]
     },
     "execution_count": 10,
     "metadata": {},
     "output_type": "execute_result"
    }
   ],
   "source": [
    "raw_data.isnull().sum()"
   ]
  },
  {
   "cell_type": "code",
   "execution_count": null,
   "id": "15e8bcd6",
   "metadata": {},
   "outputs": [],
   "source": []
  },
  {
   "cell_type": "markdown",
   "id": "34e10d8c",
   "metadata": {},
   "source": [
    "## Working on Numeric Columns"
   ]
  },
  {
   "cell_type": "code",
   "execution_count": 11,
   "id": "3c7210b6",
   "metadata": {},
   "outputs": [
    {
     "name": "stderr",
     "output_type": "stream",
     "text": [
      "F:\\installations\\lib\\site-packages\\seaborn\\distributions.py:2619: FutureWarning: `distplot` is a deprecated function and will be removed in a future version. Please adapt your code to use either `displot` (a figure-level function with similar flexibility) or `histplot` (an axes-level function for histograms).\n",
      "  warnings.warn(msg, FutureWarning)\n"
     ]
    },
    {
     "data": {
      "image/png": "[encoded data removed]",
      "text/plain": [
       "<Figure size 1008x288 with 2 Axes>"
      ]
     },
     "metadata": {
      "needs_background": "light"
     },
     "output_type": "display_data"
    }
   ],
   "source": [
    "plt.figure(figsize=(14,4))\n",
    "plt.subplot(121)\n",
    "sns.distplot(raw_data['Year'])\n",
    "plt.title('Year PDF')\n",
    "plt.subplot(122)\n",
    "stats.probplot(raw_data['Year'], dist=\"norm\", plot=plt)\n",
    "plt.title('Year QQ Plot')\n",
    "plt.show()"
   ]
  },
  {
   "cell_type": "code",
   "execution_count": 12,
   "id": "819c7b79",
   "metadata": {},
   "outputs": [
    {
     "name": "stderr",
     "output_type": "stream",
     "text": [
      "F:\\installations\\lib\\site-packages\\seaborn\\distributions.py:2619: FutureWarning: `distplot` is a deprecated function and will be removed in a future version. Please adapt your code to use either `displot` (a figure-level function with similar flexibility) or `histplot` (an axes-level function for histograms).\n",
      "  warnings.warn(msg, FutureWarning)\n"
     ]
    },
    {
     "data": {
      "image/png": "[encoded data removed]",
      "text/plain": [
       "<Figure size 1008x288 with 2 Axes>"
      ]
     },
     "metadata": {
      "needs_background": "light"
     },
     "output_type": "display_data"
    }
   ],
   "source": [
    "plt.figure(figsize=(14,4))\n",
    "plt.subplot(121)\n",
    "sns.distplot(raw_data['Kilometers_Driven'])\n",
    "plt.title('Kilometers_Driven PDF')\n",
    "plt.subplot(122)\n",
    "stats.probplot(raw_data['Kilometers_Driven'], dist=\"norm\", plot=plt)\n",
    "plt.title('Kilometers_Driven QQ Plot')\n",
    "plt.show()"
   ]
  },
  {
   "cell_type": "code",
   "execution_count": 13,
   "id": "9cd8e719",
   "metadata": {},
   "outputs": [
    {
     "name": "stderr",
     "output_type": "stream",
     "text": [
      "F:\\installations\\lib\\site-packages\\seaborn\\distributions.py:2619: FutureWarning: `distplot` is a deprecated function and will be removed in a future version. Please adapt your code to use either `displot` (a figure-level function with similar flexibility) or `histplot` (an axes-level function for histograms).\n",
      "  warnings.warn(msg, FutureWarning)\n"
     ]
    },
    {
     "data": {
      "image/png": "[encoded data removed]",
      "text/plain": [
       "<Figure size 1008x288 with 2 Axes>"
      ]
     },
     "metadata": {
      "needs_background": "light"
     },
     "output_type": "display_data"
    }
   ],
   "source": [
    "plt.figure(figsize=(14,4))\n",
    "plt.subplot(121)\n",
    "sns.distplot(raw_data['Engine CC'])\n",
    "plt.title('Engine CC PDF')\n",
    "plt.subplot(122)\n",
    "stats.probplot(raw_data['Year'], dist=\"norm\", plot=plt)\n",
    "plt.title('Engine CC QQ Plot')\n",
    "plt.show()"
   ]
  },
  {
   "cell_type": "code",
   "execution_count": 14,
   "id": "534ebba4",
   "metadata": {},
   "outputs": [
    {
     "name": "stderr",
     "output_type": "stream",
     "text": [
      "F:\\installations\\lib\\site-packages\\seaborn\\distributions.py:2619: FutureWarning: `distplot` is a deprecated function and will be removed in a future version. Please adapt your code to use either `displot` (a figure-level function with similar flexibility) or `histplot` (an axes-level function for histograms).\n",
      "  warnings.warn(msg, FutureWarning)\n"
     ]
    },
    {
     "data": {
      "image/png": "[encoded data removed]",
      "text/plain": [
       "<Figure size 1008x288 with 2 Axes>"
      ]
     },
     "metadata": {
      "needs_background": "light"
     },
     "output_type": "display_data"
    }
   ],
   "source": [
    "plt.figure(figsize=(14,4))\n",
    "plt.subplot(121)\n",
    "sns.distplot(raw_data['Power'])\n",
    "plt.title('Power PDF')\n",
    "plt.subplot(122)\n",
    "stats.probplot(raw_data['Power'], dist=\"norm\", plot=plt)\n",
    "plt.title('Power QQ Plot')\n",
    "plt.show()"
   ]
  },
  {
   "cell_type": "code",
   "execution_count": 15,
   "id": "3fe2a6dd",
   "metadata": {},
   "outputs": [
    {
     "name": "stderr",
     "output_type": "stream",
     "text": [
      "F:\\installations\\lib\\site-packages\\seaborn\\distributions.py:2619: FutureWarning: `distplot` is a deprecated function and will be removed in a future version. Please adapt your code to use either `displot` (a figure-level function with similar flexibility) or `histplot` (an axes-level function for histograms).\n",
      "  warnings.warn(msg, FutureWarning)\n"
     ]
    },
    {
     "data": {
      "image/png": "[encoded data removed]",
      "text/plain": [
       "<Figure size 1008x288 with 2 Axes>"
      ]
     },
     "metadata": {
      "needs_background": "light"
     },
     "output_type": "display_data"
    }
   ],
   "source": [
    "plt.figure(figsize=(14,4))\n",
    "plt.subplot(121)\n",
    "sns.distplot(raw_data['Seats'])\n",
    "plt.title('Seats PDF')\n",
    "plt.subplot(122)\n",
    "stats.probplot(raw_data['Seats'], dist=\"norm\", plot=plt)\n",
    "plt.title('Seats QQ Plot')\n",
    "plt.show()"
   ]
  },
  {
   "cell_type": "code",
   "execution_count": 16,
   "id": "ae9de5f3",
   "metadata": {},
   "outputs": [
    {
     "name": "stderr",
     "output_type": "stream",
     "text": [
      "F:\\installations\\lib\\site-packages\\seaborn\\distributions.py:2619: FutureWarning: `distplot` is a deprecated function and will be removed in a future version. Please adapt your code to use either `displot` (a figure-level function with similar flexibility) or `histplot` (an axes-level function for histograms).\n",
      "  warnings.warn(msg, FutureWarning)\n"
     ]
    },
    {
     "data": {
      "image/png": "[encoded data removed]",
      "text/plain": [
       "<Figure size 1008x288 with 2 Axes>"
      ]
     },
     "metadata": {
      "needs_background": "light"
     },
     "output_type": "display_data"
    }
   ],
   "source": [
    "plt.figure(figsize=(14,4))\n",
    "plt.subplot(121)\n",
    "sns.distplot(raw_data['Mileage Km/L'])\n",
    "plt.title('Mileage Km/L PDF')\n",
    "plt.subplot(122)\n",
    "stats.probplot(raw_data['Mileage Km/L'], dist=\"norm\", plot=plt)\n",
    "plt.title('Mileage Km/L QQ Plot')\n",
    "plt.show()"
   ]
  },
  {
   "cell_type": "code",
   "execution_count": 17,
   "id": "f2ee7a44",
   "metadata": {},
   "outputs": [
    {
     "data": {
      "text/plain": [
       "Text(0.5, 1.0, 'Price and Mileage Km/L')"
      ]
     },
     "execution_count": 17,
     "metadata": {},
     "output_type": "execute_result"
    },
    {
     "data": {
      "image/png": "[encoded data removed]",
      "text/plain": [
       "<Figure size 1080x216 with 5 Axes>"
      ]
     },
     "metadata": {
      "needs_background": "light"
     },
     "output_type": "display_data"
    }
   ],
   "source": [
    "f, (ax1, ax2, ax3, ax4, ax5) = plt.subplots(1, 5, sharey=True, figsize =(15,3)) #sharey -> share 'Price' as y\n",
    "ax1.scatter(raw_data['Year'],raw_data['Price'])\n",
    "ax1.set_title('Price and Year')\n",
    "ax2.scatter(raw_data['Kilometers_Driven'],raw_data['Price'])\n",
    "ax2.set_title('Price and Kilometers_Driven')\n",
    "ax3.scatter(raw_data['Engine CC'],raw_data['Price'])\n",
    "ax3.set_title('Price and Engine CC')\n",
    "ax4.scatter(raw_data['Seats'],raw_data['Price'])\n",
    "ax4.set_title('Price and Seats')\n",
    "ax5.scatter(raw_data['Mileage Km/L'],raw_data['Price'])\n",
    "ax5.set_title('Price and Mileage Km/L')"
   ]
  },
  {
   "cell_type": "code",
   "execution_count": 18,
   "id": "49b3d740",
   "metadata": {},
   "outputs": [
    {
     "name": "stderr",
     "output_type": "stream",
     "text": [
      "C:\\Users\\Dell\\AppData\\Local\\Temp\\ipykernel_20648\\1383285758.py:4: SettingWithCopyWarning: \n",
      "A value is trying to be set on a copy of a slice from a DataFrame.\n",
      "Try using .loc[row_indexer,col_indexer] = value instead\n",
      "\n",
      "See the caveats in the documentation: https://pandas.pydata.org/pandas-docs/stable/user_guide/indexing.html#returning-a-view-versus-a-copy\n",
      "  raw_data['log_price'] = log_price\n"
     ]
    }
   ],
   "source": [
    "log_price = np.log(raw_data['Price'])\n",
    "\n",
    "# Then we add it to our data frame\n",
    "raw_data['log_price'] = log_price"
   ]
  },
  {
   "cell_type": "code",
   "execution_count": 19,
   "id": "b9ab0d4a",
   "metadata": {},
   "outputs": [
    {
     "data": {
      "text/plain": [
       "Text(0.5, 1.0, 'Price and Mileage Km/L')"
      ]
     },
     "execution_count": 19,
     "metadata": {},
     "output_type": "execute_result"
    },
    {
     "data": {
      "image/png": "[encoded data removed]",
      "text/plain": [
       "<Figure size 1080x216 with 5 Axes>"
      ]
     },
     "metadata": {
      "needs_background": "light"
     },
     "output_type": "display_data"
    }
   ],
   "source": [
    "f, (ax1, ax2, ax3, ax4, ax5) = plt.subplots(1, 5, sharey=True, figsize =(15,3)) #sharey -> share 'Price' as y\n",
    "ax1.scatter(raw_data['Year'],raw_data['log_price'])\n",
    "ax1.set_title('Price and Year')\n",
    "ax2.scatter(raw_data['Kilometers_Driven'],raw_data['log_price'])\n",
    "ax2.set_title('Price and Kilometers_Driven')\n",
    "ax3.scatter(raw_data['Engine CC'],raw_data['log_price'])\n",
    "ax3.set_title('Price and Engine CC')\n",
    "ax4.scatter(raw_data['Seats'],raw_data['log_price'])\n",
    "ax4.set_title('Price and Seats')\n",
    "ax5.scatter(raw_data['Mileage Km/L'],raw_data['log_price'])\n",
    "ax5.set_title('Price and Mileage Km/L')"
   ]
  },
  {
   "cell_type": "markdown",
   "id": "f7915d15",
   "metadata": {},
   "source": [
    "## Multicolinearity"
   ]
  },
  {
   "cell_type": "code",
   "execution_count": 20,
   "id": "5c78f4e9",
   "metadata": {},
   "outputs": [],
   "source": [
    "from statsmodels.stats.outliers_influence import variance_inflation_factor"
   ]
  },
  {
   "cell_type": "code",
   "execution_count": 21,
   "id": "6d3c8df1",
   "metadata": {},
   "outputs": [],
   "source": [
    "variables = raw_data[['Mileage Km/L','Year','Engine CC','Kilometers_Driven','Seats']]"
   ]
  },
  {
   "cell_type": "code",
   "execution_count": 22,
   "id": "a065dcfe",
   "metadata": {},
   "outputs": [],
   "source": [
    "vif = pd.DataFrame()"
   ]
  },
  {
   "cell_type": "code",
   "execution_count": 23,
   "id": "1295a20d",
   "metadata": {},
   "outputs": [],
   "source": [
    "vif[\"VIF\"] = [variance_inflation_factor(variables.values, i) for i in range(variables.shape[1])]\n"
   ]
  },
  {
   "cell_type": "code",
   "execution_count": 24,
   "id": "fad4f135",
   "metadata": {},
   "outputs": [],
   "source": [
    "vif[\"Features\"] = variables.columns"
   ]
  },
  {
   "cell_type": "code",
   "execution_count": 25,
   "id": "7015fa81",
   "metadata": {},
   "outputs": [
    {
     "data": {
      "text/html": [
       "<div>\n",
       "<style scoped>\n",
       "    .dataframe tbody tr th:only-of-type {\n",
       "        vertical-align: middle;\n",
       "    }\n",
       "\n",
       "    .dataframe tbody tr th {\n",
       "        vertical-align: top;\n",
       "    }\n",
       "\n",
       "    .dataframe thead th {\n",
       "        text-align: right;\n",
       "    }\n",
       "</style>\n",
       "<table border=\"1\" class=\"dataframe\">\n",
       "  <thead>\n",
       "    <tr style=\"text-align: right;\">\n",
       "      <th></th>\n",
       "      <th>VIF</th>\n",
       "      <th>Features</th>\n",
       "    </tr>\n",
       "  </thead>\n",
       "  <tbody>\n",
       "    <tr>\n",
       "      <th>0</th>\n",
       "      <td>27.477438</td>\n",
       "      <td>Mileage Km/L</td>\n",
       "    </tr>\n",
       "    <tr>\n",
       "      <th>1</th>\n",
       "      <td>104.419314</td>\n",
       "      <td>Year</td>\n",
       "    </tr>\n",
       "    <tr>\n",
       "      <th>2</th>\n",
       "      <td>14.277432</td>\n",
       "      <td>Engine CC</td>\n",
       "    </tr>\n",
       "    <tr>\n",
       "      <th>3</th>\n",
       "      <td>1.426367</td>\n",
       "      <td>Kilometers_Driven</td>\n",
       "    </tr>\n",
       "    <tr>\n",
       "      <th>4</th>\n",
       "      <td>53.130509</td>\n",
       "      <td>Seats</td>\n",
       "    </tr>\n",
       "  </tbody>\n",
       "</table>\n",
       "</div>"
      ],
      "text/plain": [
       "          VIF           Features\n",
       "0   27.477438       Mileage Km/L\n",
       "1  104.419314               Year\n",
       "2   14.277432          Engine CC\n",
       "3    1.426367  Kilometers_Driven\n",
       "4   53.130509              Seats"
      ]
     },
     "execution_count": 25,
     "metadata": {},
     "output_type": "execute_result"
    }
   ],
   "source": [
    "vif"
   ]
  },
  {
   "cell_type": "code",
   "execution_count": 26,
   "id": "faee1ebf",
   "metadata": {},
   "outputs": [],
   "source": [
    "raw_data = raw_data.drop(['log_price'],axis=1)"
   ]
  },
  {
   "cell_type": "markdown",
   "id": "87404271",
   "metadata": {},
   "source": [
    "## Since not following Assumptions of Linear Rigression, We cannot apply it"
   ]
  },
  {
   "cell_type": "markdown",
   "id": "0ca5130c",
   "metadata": {},
   "source": [
    "## checking for Outliers"
   ]
  },
  {
   "cell_type": "code",
   "execution_count": 27,
   "id": "05ed0b79",
   "metadata": {},
   "outputs": [
    {
     "name": "stderr",
     "output_type": "stream",
     "text": [
      "C:\\Users\\Dell\\AppData\\Local\\Temp\\ipykernel_20648\\923624275.py:6: FutureWarning: Automatic reindexing on DataFrame vs Series comparisons is deprecated and will raise ValueError in a future version. Do `left, right = left.align(right, axis=1, copy=False)` before e.g. `left == right`\n",
      "  ((raw_data < (Q1 - 1.5 * IQR)) | (raw_data > (Q3 + 1.5 * IQR))).sum()\n"
     ]
    },
    {
     "data": {
      "text/plain": [
       "Engine CC             59\n",
       "Fuel_Type              0\n",
       "Kilometers_Driven    201\n",
       "Location               0\n",
       "Manufacturer           0\n",
       "Mileage Km/L          69\n",
       "Owner_Type             0\n",
       "Power                236\n",
       "Price                713\n",
       "Seats                956\n",
       "Transmission           0\n",
       "Year                 129\n",
       "dtype: int64"
      ]
     },
     "execution_count": 27,
     "metadata": {},
     "output_type": "execute_result"
    }
   ],
   "source": [
    "#Since most of the numerical columns are skewed therefore using IQR method\n",
    "\n",
    "Q1 = raw_data.quantile(0.25)\n",
    "Q3 = raw_data.quantile(0.75)\n",
    "IQR = Q3 - Q1\n",
    "((raw_data < (Q1 - 1.5 * IQR)) | (raw_data > (Q3 + 1.5 * IQR))).sum()"
   ]
  },
  {
   "cell_type": "markdown",
   "id": "bc788f10",
   "metadata": {},
   "source": [
    "### Since Engine CC , Kilometers_Driven,Mileage Km/L,Year is less than 250 which is less than 0.05% .\n",
    "### Therefore Trimming it"
   ]
  },
  {
   "cell_type": "code",
   "execution_count": 28,
   "id": "ccef7f08",
   "metadata": {},
   "outputs": [],
   "source": [
    "def remove_outlier(df_in, col_name):\n",
    "    q1 = df_in[col_name].quantile(0.25)\n",
    "    q3 = df_in[col_name].quantile(0.75)\n",
    "    iqr = q3-q1 #Interquartile range\n",
    "    fence_low  = q1-1.5*iqr\n",
    "    fence_high = q3+1.5*iqr\n",
    "    df_out = df_in.loc[(df_in[col_name] > fence_low) & (df_in[col_name] < fence_high)]\n",
    "    return df_out"
   ]
  },
  {
   "cell_type": "code",
   "execution_count": 29,
   "id": "195aea7d",
   "metadata": {},
   "outputs": [],
   "source": [
    "clean_data = raw_data.copy()\n",
    "columns  = ['Kilometers_Driven','Power']\n",
    "for column in columns:\n",
    "    clean_data = remove_outlier(clean_data,column)"
   ]
  },
  {
   "cell_type": "code",
   "execution_count": 30,
   "id": "b8f3c339",
   "metadata": {},
   "outputs": [
    {
     "name": "stderr",
     "output_type": "stream",
     "text": [
      "C:\\Users\\Dell\\AppData\\Local\\Temp\\ipykernel_20648\\2591590570.py:4: FutureWarning: Automatic reindexing on DataFrame vs Series comparisons is deprecated and will raise ValueError in a future version. Do `left, right = left.align(right, axis=1, copy=False)` before e.g. `left == right`\n",
      "  ((clean_data < (Q1 - 1.5 * IQR)) | (clean_data > (Q3 + 1.5 * IQR))).sum()\n"
     ]
    },
    {
     "data": {
      "text/plain": [
       "Engine CC             18\n",
       "Fuel_Type              0\n",
       "Kilometers_Driven     36\n",
       "Location               0\n",
       "Manufacturer           0\n",
       "Mileage Km/L          61\n",
       "Owner_Type             0\n",
       "Power                 49\n",
       "Price                636\n",
       "Seats                772\n",
       "Transmission           0\n",
       "Year                 113\n",
       "dtype: int64"
      ]
     },
     "execution_count": 30,
     "metadata": {},
     "output_type": "execute_result"
    }
   ],
   "source": [
    "Q1 = clean_data.quantile(0.25)\n",
    "Q3 = clean_data.quantile(0.75)\n",
    "IQR = Q3 - Q1\n",
    "((clean_data < (Q1 - 1.5 * IQR)) | (clean_data > (Q3 + 1.5 * IQR))).sum()"
   ]
  },
  {
   "cell_type": "markdown",
   "id": "7638082f",
   "metadata": {},
   "source": [
    "### Capping Seats Column"
   ]
  },
  {
   "cell_type": "code",
   "execution_count": 31,
   "id": "81da4504",
   "metadata": {},
   "outputs": [],
   "source": [
    "upper_limit =  clean_data['Seats'].quantile(0.75)\n",
    "lower_limit = clean_data['Seats'].quantile(0.25)\n",
    "#new_df_cap = df.copy()\n",
    "clean_data['Seats'] = np.where(\n",
    "    clean_data['Seats'] > upper_limit,\n",
    "    upper_limit,\n",
    "    np.where(\n",
    "        clean_data['Seats'] < lower_limit,\n",
    "        lower_limit,\n",
    "        clean_data['Seats']\n",
    "    )\n",
    ")"
   ]
  },
  {
   "cell_type": "code",
   "execution_count": 32,
   "id": "1d81aead",
   "metadata": {},
   "outputs": [
    {
     "name": "stderr",
     "output_type": "stream",
     "text": [
      "C:\\Users\\Dell\\AppData\\Local\\Temp\\ipykernel_20648\\2591590570.py:4: FutureWarning: Automatic reindexing on DataFrame vs Series comparisons is deprecated and will raise ValueError in a future version. Do `left, right = left.align(right, axis=1, copy=False)` before e.g. `left == right`\n",
      "  ((clean_data < (Q1 - 1.5 * IQR)) | (clean_data > (Q3 + 1.5 * IQR))).sum()\n"
     ]
    },
    {
     "data": {
      "text/plain": [
       "Engine CC             18\n",
       "Fuel_Type              0\n",
       "Kilometers_Driven     36\n",
       "Location               0\n",
       "Manufacturer           0\n",
       "Mileage Km/L          61\n",
       "Owner_Type             0\n",
       "Power                 49\n",
       "Price                636\n",
       "Seats                  0\n",
       "Transmission           0\n",
       "Year                 113\n",
       "dtype: int64"
      ]
     },
     "execution_count": 32,
     "metadata": {},
     "output_type": "execute_result"
    }
   ],
   "source": [
    "Q1 = clean_data.quantile(0.25)\n",
    "Q3 = clean_data.quantile(0.75)\n",
    "IQR = Q3 - Q1\n",
    "((clean_data < (Q1 - 1.5 * IQR)) | (clean_data > (Q3 + 1.5 * IQR))).sum()"
   ]
  },
  {
   "cell_type": "markdown",
   "id": "b0a284e7",
   "metadata": {},
   "source": [
    "### Segregating Dependent and Independent Features"
   ]
  },
  {
   "cell_type": "markdown",
   "id": "44dec66f",
   "metadata": {},
   "source": [
    "## Splitting data into train and test split"
   ]
  },
  {
   "cell_type": "code",
   "execution_count": 33,
   "id": "02e90998",
   "metadata": {},
   "outputs": [],
   "source": [
    "x=clean_data.drop(['Price'],axis=1)\n",
    "y=clean_data.Price"
   ]
  },
  {
   "cell_type": "code",
   "execution_count": 34,
   "id": "78db8d1a",
   "metadata": {},
   "outputs": [],
   "source": [
    "x_train,x_test,y_train,y_test = train_test_split(x,y,test_size=0.2,random_state=42)"
   ]
  },
  {
   "cell_type": "code",
   "execution_count": 35,
   "id": "d0a71f29",
   "metadata": {},
   "outputs": [],
   "source": [
    "#Taking data for decision tree\n",
    "x_train_decision = x_train.copy()\n",
    "x_test_decision = x_test.copy()\n",
    "y_train_decision = y_train.copy()\n",
    "y_test_decision = y_test.copy()"
   ]
  },
  {
   "cell_type": "code",
   "execution_count": 36,
   "id": "d1e42469",
   "metadata": {},
   "outputs": [
    {
     "data": {
      "text/html": [
       "<div>\n",
       "<style scoped>\n",
       "    .dataframe tbody tr th:only-of-type {\n",
       "        vertical-align: middle;\n",
       "    }\n",
       "\n",
       "    .dataframe tbody tr th {\n",
       "        vertical-align: top;\n",
       "    }\n",
       "\n",
       "    .dataframe thead th {\n",
       "        text-align: right;\n",
       "    }\n",
       "</style>\n",
       "<table border=\"1\" class=\"dataframe\">\n",
       "  <thead>\n",
       "    <tr style=\"text-align: right;\">\n",
       "      <th></th>\n",
       "      <th>Manufacturer</th>\n",
       "      <th>Location</th>\n",
       "      <th>Year</th>\n",
       "      <th>Kilometers_Driven</th>\n",
       "      <th>Fuel_Type</th>\n",
       "      <th>Transmission</th>\n",
       "      <th>Owner_Type</th>\n",
       "      <th>Engine CC</th>\n",
       "      <th>Power</th>\n",
       "      <th>Seats</th>\n",
       "      <th>Mileage Km/L</th>\n",
       "    </tr>\n",
       "  </thead>\n",
       "  <tbody>\n",
       "    <tr>\n",
       "      <th>1843</th>\n",
       "      <td>Maruti</td>\n",
       "      <td>Mumbai</td>\n",
       "      <td>2014</td>\n",
       "      <td>53000</td>\n",
       "      <td>Petrol</td>\n",
       "      <td>Automatic</td>\n",
       "      <td>First</td>\n",
       "      <td>998</td>\n",
       "      <td>67.04</td>\n",
       "      <td>5.0</td>\n",
       "      <td>23.10</td>\n",
       "    </tr>\n",
       "    <tr>\n",
       "      <th>1862</th>\n",
       "      <td>Chevrolet</td>\n",
       "      <td>Mumbai</td>\n",
       "      <td>2010</td>\n",
       "      <td>78563</td>\n",
       "      <td>Diesel</td>\n",
       "      <td>Manual</td>\n",
       "      <td>First</td>\n",
       "      <td>1991</td>\n",
       "      <td>123.70</td>\n",
       "      <td>5.0</td>\n",
       "      <td>16.52</td>\n",
       "    </tr>\n",
       "    <tr>\n",
       "      <th>2182</th>\n",
       "      <td>Maruti</td>\n",
       "      <td>Mumbai</td>\n",
       "      <td>2011</td>\n",
       "      <td>14000</td>\n",
       "      <td>Petrol</td>\n",
       "      <td>Manual</td>\n",
       "      <td>Second</td>\n",
       "      <td>1197</td>\n",
       "      <td>85.80</td>\n",
       "      <td>5.0</td>\n",
       "      <td>17.50</td>\n",
       "    </tr>\n",
       "    <tr>\n",
       "      <th>2309</th>\n",
       "      <td>Tata</td>\n",
       "      <td>Pune</td>\n",
       "      <td>2011</td>\n",
       "      <td>50000</td>\n",
       "      <td>Petrol</td>\n",
       "      <td>Manual</td>\n",
       "      <td>Second</td>\n",
       "      <td>624</td>\n",
       "      <td>37.48</td>\n",
       "      <td>5.0</td>\n",
       "      <td>23.90</td>\n",
       "    </tr>\n",
       "    <tr>\n",
       "      <th>5349</th>\n",
       "      <td>BMW</td>\n",
       "      <td>Pune</td>\n",
       "      <td>2013</td>\n",
       "      <td>98000</td>\n",
       "      <td>Diesel</td>\n",
       "      <td>Automatic</td>\n",
       "      <td>First</td>\n",
       "      <td>1995</td>\n",
       "      <td>190.00</td>\n",
       "      <td>5.0</td>\n",
       "      <td>18.56</td>\n",
       "    </tr>\n",
       "    <tr>\n",
       "      <th>...</th>\n",
       "      <td>...</td>\n",
       "      <td>...</td>\n",
       "      <td>...</td>\n",
       "      <td>...</td>\n",
       "      <td>...</td>\n",
       "      <td>...</td>\n",
       "      <td>...</td>\n",
       "      <td>...</td>\n",
       "      <td>...</td>\n",
       "      <td>...</td>\n",
       "      <td>...</td>\n",
       "    </tr>\n",
       "    <tr>\n",
       "      <th>4067</th>\n",
       "      <td>Maruti</td>\n",
       "      <td>Delhi</td>\n",
       "      <td>2012</td>\n",
       "      <td>82069</td>\n",
       "      <td>CNG</td>\n",
       "      <td>Manual</td>\n",
       "      <td>First</td>\n",
       "      <td>1586</td>\n",
       "      <td>103.30</td>\n",
       "      <td>5.0</td>\n",
       "      <td>21.40</td>\n",
       "    </tr>\n",
       "    <tr>\n",
       "      <th>5608</th>\n",
       "      <td>Skoda</td>\n",
       "      <td>Bangalore</td>\n",
       "      <td>2013</td>\n",
       "      <td>66700</td>\n",
       "      <td>Petrol</td>\n",
       "      <td>Manual</td>\n",
       "      <td>First</td>\n",
       "      <td>1598</td>\n",
       "      <td>103.50</td>\n",
       "      <td>5.0</td>\n",
       "      <td>15.00</td>\n",
       "    </tr>\n",
       "    <tr>\n",
       "      <th>5643</th>\n",
       "      <td>MercedesBenz</td>\n",
       "      <td>Chennai</td>\n",
       "      <td>2007</td>\n",
       "      <td>70000</td>\n",
       "      <td>Diesel</td>\n",
       "      <td>Automatic</td>\n",
       "      <td>First</td>\n",
       "      <td>2987</td>\n",
       "      <td>198.50</td>\n",
       "      <td>5.0</td>\n",
       "      <td>11.00</td>\n",
       "    </tr>\n",
       "    <tr>\n",
       "      <th>5822</th>\n",
       "      <td>Maruti</td>\n",
       "      <td>Pune</td>\n",
       "      <td>2014</td>\n",
       "      <td>84000</td>\n",
       "      <td>Diesel</td>\n",
       "      <td>Manual</td>\n",
       "      <td>First</td>\n",
       "      <td>1248</td>\n",
       "      <td>74.00</td>\n",
       "      <td>5.0</td>\n",
       "      <td>22.90</td>\n",
       "    </tr>\n",
       "    <tr>\n",
       "      <th>931</th>\n",
       "      <td>Maruti</td>\n",
       "      <td>Hyderabad</td>\n",
       "      <td>2012</td>\n",
       "      <td>72000</td>\n",
       "      <td>LPG</td>\n",
       "      <td>Manual</td>\n",
       "      <td>First</td>\n",
       "      <td>998</td>\n",
       "      <td>58.20</td>\n",
       "      <td>5.0</td>\n",
       "      <td>26.20</td>\n",
       "    </tr>\n",
       "  </tbody>\n",
       "</table>\n",
       "<p>4424 rows × 11 columns</p>\n",
       "</div>"
      ],
      "text/plain": [
       "      Manufacturer   Location  Year  Kilometers_Driven Fuel_Type Transmission  \\\n",
       "1843        Maruti     Mumbai  2014              53000    Petrol    Automatic   \n",
       "1862     Chevrolet     Mumbai  2010              78563    Diesel       Manual   \n",
       "2182        Maruti     Mumbai  2011              14000    Petrol       Manual   \n",
       "2309          Tata       Pune  2011              50000    Petrol       Manual   \n",
       "5349           BMW       Pune  2013              98000    Diesel    Automatic   \n",
       "...            ...        ...   ...                ...       ...          ...   \n",
       "4067        Maruti      Delhi  2012              82069       CNG       Manual   \n",
       "5608         Skoda  Bangalore  2013              66700    Petrol       Manual   \n",
       "5643  MercedesBenz    Chennai  2007              70000    Diesel    Automatic   \n",
       "5822        Maruti       Pune  2014              84000    Diesel       Manual   \n",
       "931         Maruti  Hyderabad  2012              72000       LPG       Manual   \n",
       "\n",
       "     Owner_Type  Engine CC   Power  Seats  Mileage Km/L  \n",
       "1843      First        998   67.04    5.0         23.10  \n",
       "1862      First       1991  123.70    5.0         16.52  \n",
       "2182     Second       1197   85.80    5.0         17.50  \n",
       "2309     Second        624   37.48    5.0         23.90  \n",
       "5349      First       1995  190.00    5.0         18.56  \n",
       "...         ...        ...     ...    ...           ...  \n",
       "4067      First       1586  103.30    5.0         21.40  \n",
       "5608      First       1598  103.50    5.0         15.00  \n",
       "5643      First       2987  198.50    5.0         11.00  \n",
       "5822      First       1248   74.00    5.0         22.90  \n",
       "931       First        998   58.20    5.0         26.20  \n",
       "\n",
       "[4424 rows x 11 columns]"
      ]
     },
     "execution_count": 36,
     "metadata": {},
     "output_type": "execute_result"
    }
   ],
   "source": [
    "x_train"
   ]
  },
  {
   "cell_type": "code",
   "execution_count": 37,
   "id": "ddec789a",
   "metadata": {},
   "outputs": [
    {
     "data": {
      "text/plain": [
       "array([ 998, 1991, 1197,  624, 1995, 1599, 1598, 1497, 1591, 1120,  814,\n",
       "       1196, 1461,  796, 1248, 1498, 1198, 1968, 1586, 2497, 2143, 1199,\n",
       "       1396, 1998, 2179, 1298, 2499, 1399, 1798, 2477, 1582, 2148, 2696,\n",
       "       1299, 2354, 2755, 1086, 1590, 1896, 1061, 1499, 1364, 1999, 1796,\n",
       "       1194, 2987, 2494, 1493, 1405, 1495, 2393, 2498, 1997, 1373, 2694,\n",
       "       1172, 2199, 1799, 1186, 2982,  993, 2993,  799, 1496, 1595,  970,\n",
       "       1193, 1388,  999, 1978, 1797, 1984,  936, 2523, 2496, 1341, 3198,\n",
       "       1950, 2489, 1956, 1390, 1596, 1047, 2698, 1150, 1343, 2198, 1468,\n",
       "       1462, 2360, 1794, 1368, 2609, 2400, 2953, 1395, 3197, 2997, 2835,\n",
       "       2720, 2359, 1597, 2495, 1985,  995, 2487, 1969, 2956, 2773, 2362,\n",
       "       3436, 1242,  793, 2349, 2112, 1781, 2446, 2147, 1948, 2771, 1422],\n",
       "      dtype=int64)"
      ]
     },
     "execution_count": 37,
     "metadata": {},
     "output_type": "execute_result"
    }
   ],
   "source": [
    "x_train['Engine CC'].unique()"
   ]
  },
  {
   "cell_type": "code",
   "execution_count": 38,
   "id": "b3fc5995",
   "metadata": {},
   "outputs": [],
   "source": [
    "# one hot encoding\n",
    "trf1 = ColumnTransformer(transformers=[\n",
    "('ohe_Manufacturer' ,OneHotEncoder(sparse=False,handle_unknown='ignore'),[0]),\n",
    "('ohe_Location' ,OneHotEncoder(sparse=False,handle_unknown='ignore'),[1]),\n",
    "('ohe_Fuel_Type' ,OneHotEncoder(sparse=False,handle_unknown='ignore'),[1]),\n",
    "('ohe_Transmission' ,OrdinalEncoder(categories=[['Manual', 'Automatic']]),[5]),\n",
    "('ohe_Owner_Type' ,OrdinalEncoder(categories=[['Fourth', 'Third','Second','First']]),[6]), \n",
    "],remainder='passthrough')"
   ]
  },
  {
   "cell_type": "code",
   "execution_count": 39,
   "id": "9f707ed6",
   "metadata": {},
   "outputs": [],
   "source": [
    "# Scaling\n",
    "trf2 = ColumnTransformer([\n",
    "('scale_Year',StandardScaler(),[2]),\n",
    "('scale_Kilometers_Driven',StandardScaler(),[3]),\n",
    "('Engine CC',StandardScaler(),[7]),\n",
    "('Power',StandardScaler(),[8]),    \n",
    "])"
   ]
  },
  {
   "cell_type": "code",
   "execution_count": 40,
   "id": "9480be16",
   "metadata": {},
   "outputs": [],
   "source": [
    "# Feature selection\n",
    "trf3 = SelectKBest(score_func=chi2,k=5)"
   ]
  },
  {
   "cell_type": "code",
   "execution_count": 41,
   "id": "c8e60538",
   "metadata": {},
   "outputs": [],
   "source": [
    "x_train = trf1.fit_transform(x_train)"
   ]
  },
  {
   "cell_type": "code",
   "execution_count": 42,
   "id": "a3999240",
   "metadata": {},
   "outputs": [],
   "source": [
    "x_train=trf2.fit_transform(x_train)"
   ]
  },
  {
   "cell_type": "code",
   "execution_count": 43,
   "id": "73c20860",
   "metadata": {},
   "outputs": [],
   "source": [
    "x_test =trf1.transform(x_test)"
   ]
  },
  {
   "cell_type": "code",
   "execution_count": 44,
   "id": "6a0f58c5",
   "metadata": {},
   "outputs": [],
   "source": [
    "x_test = trf2.transform(x_test)"
   ]
  },
  {
   "cell_type": "code",
   "execution_count": 45,
   "id": "3f7e64c0",
   "metadata": {},
   "outputs": [],
   "source": [
    "# train the model\n",
    "trf8 = KNeighborsRegressor()"
   ]
  },
  {
   "cell_type": "code",
   "execution_count": 46,
   "id": "133e74f3",
   "metadata": {},
   "outputs": [],
   "source": [
    "trf9 = DecisionTreeRegressor()"
   ]
  },
  {
   "cell_type": "code",
   "execution_count": 47,
   "id": "7e0437dc",
   "metadata": {},
   "outputs": [],
   "source": [
    "pipe = make_pipeline(trf1,trf2,trf8)"
   ]
  },
  {
   "cell_type": "code",
   "execution_count": 48,
   "id": "e6dc680d",
   "metadata": {},
   "outputs": [],
   "source": [
    "pipe_decision_tree = make_pipeline(trf1,trf2,trf9)"
   ]
  },
  {
   "cell_type": "code",
   "execution_count": 49,
   "id": "8aa2cc02",
   "metadata": {},
   "outputs": [
    {
     "ename": "ValueError",
     "evalue": "all features must be in [0, 3] or [-4, 0]",
     "output_type": "error",
     "traceback": [
      "\u001b[1;31m---------------------------------------------------------------------------\u001b[0m",
      "\u001b[1;31mIndexError\u001b[0m                                Traceback (most recent call last)",
      "File \u001b[1;32mF:\\installations\\lib\\site-packages\\sklearn\\utils\\__init__.py:399\u001b[0m, in \u001b[0;36m_get_column_indices\u001b[1;34m(X, key)\u001b[0m\n\u001b[0;32m    398\u001b[0m \u001b[38;5;28;01mtry\u001b[39;00m:\n\u001b[1;32m--> 399\u001b[0m     idx \u001b[38;5;241m=\u001b[39m \u001b[43m_safe_indexing\u001b[49m\u001b[43m(\u001b[49m\u001b[43mnp\u001b[49m\u001b[38;5;241;43m.\u001b[39;49m\u001b[43marange\u001b[49m\u001b[43m(\u001b[49m\u001b[43mn_columns\u001b[49m\u001b[43m)\u001b[49m\u001b[43m,\u001b[49m\u001b[43m \u001b[49m\u001b[43mkey\u001b[49m\u001b[43m)\u001b[49m\n\u001b[0;32m    400\u001b[0m \u001b[38;5;28;01mexcept\u001b[39;00m \u001b[38;5;167;01mIndexError\u001b[39;00m \u001b[38;5;28;01mas\u001b[39;00m e:\n",
      "File \u001b[1;32mF:\\installations\\lib\\site-packages\\sklearn\\utils\\__init__.py:378\u001b[0m, in \u001b[0;36m_safe_indexing\u001b[1;34m(X, indices, axis)\u001b[0m\n\u001b[0;32m    377\u001b[0m \u001b[38;5;28;01melif\u001b[39;00m \u001b[38;5;28mhasattr\u001b[39m(X, \u001b[38;5;124m\"\u001b[39m\u001b[38;5;124mshape\u001b[39m\u001b[38;5;124m\"\u001b[39m):\n\u001b[1;32m--> 378\u001b[0m     \u001b[38;5;28;01mreturn\u001b[39;00m \u001b[43m_array_indexing\u001b[49m\u001b[43m(\u001b[49m\u001b[43mX\u001b[49m\u001b[43m,\u001b[49m\u001b[43m \u001b[49m\u001b[43mindices\u001b[49m\u001b[43m,\u001b[49m\u001b[43m \u001b[49m\u001b[43mindices_dtype\u001b[49m\u001b[43m,\u001b[49m\u001b[43m \u001b[49m\u001b[43maxis\u001b[49m\u001b[38;5;241;43m=\u001b[39;49m\u001b[43maxis\u001b[49m\u001b[43m)\u001b[49m\n\u001b[0;32m    379\u001b[0m \u001b[38;5;28;01melse\u001b[39;00m:\n",
      "File \u001b[1;32mF:\\installations\\lib\\site-packages\\sklearn\\utils\\__init__.py:202\u001b[0m, in \u001b[0;36m_array_indexing\u001b[1;34m(array, key, key_dtype, axis)\u001b[0m\n\u001b[0;32m    201\u001b[0m     key \u001b[38;5;241m=\u001b[39m \u001b[38;5;28mlist\u001b[39m(key)\n\u001b[1;32m--> 202\u001b[0m \u001b[38;5;28;01mreturn\u001b[39;00m \u001b[43marray\u001b[49m\u001b[43m[\u001b[49m\u001b[43mkey\u001b[49m\u001b[43m]\u001b[49m \u001b[38;5;28;01mif\u001b[39;00m axis \u001b[38;5;241m==\u001b[39m \u001b[38;5;241m0\u001b[39m \u001b[38;5;28;01melse\u001b[39;00m array[:, key]\n",
      "\u001b[1;31mIndexError\u001b[0m: index 5 is out of bounds for axis 0 with size 4",
      "\nThe above exception was the direct cause of the following exception:\n",
      "\u001b[1;31mValueError\u001b[0m                                Traceback (most recent call last)",
      "Input \u001b[1;32mIn [49]\u001b[0m, in \u001b[0;36m<cell line: 1>\u001b[1;34m()\u001b[0m\n\u001b[1;32m----> 1\u001b[0m \u001b[43mpipe\u001b[49m\u001b[38;5;241;43m.\u001b[39;49m\u001b[43mfit\u001b[49m\u001b[43m(\u001b[49m\u001b[43mx_train\u001b[49m\u001b[43m,\u001b[49m\u001b[43my_train\u001b[49m\u001b[43m)\u001b[49m\n",
      "File \u001b[1;32mF:\\installations\\lib\\site-packages\\sklearn\\pipeline.py:390\u001b[0m, in \u001b[0;36mPipeline.fit\u001b[1;34m(self, X, y, **fit_params)\u001b[0m\n\u001b[0;32m    364\u001b[0m \u001b[38;5;124;03m\"\"\"Fit the model.\u001b[39;00m\n\u001b[0;32m    365\u001b[0m \n\u001b[0;32m    366\u001b[0m \u001b[38;5;124;03mFit all the transformers one after the other and transform the\u001b[39;00m\n\u001b[1;32m   (...)\u001b[0m\n\u001b[0;32m    387\u001b[0m \u001b[38;5;124;03m    Pipeline with fitted steps.\u001b[39;00m\n\u001b[0;32m    388\u001b[0m \u001b[38;5;124;03m\"\"\"\u001b[39;00m\n\u001b[0;32m    389\u001b[0m fit_params_steps \u001b[38;5;241m=\u001b[39m \u001b[38;5;28mself\u001b[39m\u001b[38;5;241m.\u001b[39m_check_fit_params(\u001b[38;5;241m*\u001b[39m\u001b[38;5;241m*\u001b[39mfit_params)\n\u001b[1;32m--> 390\u001b[0m Xt \u001b[38;5;241m=\u001b[39m \u001b[38;5;28mself\u001b[39m\u001b[38;5;241m.\u001b[39m_fit(X, y, \u001b[38;5;241m*\u001b[39m\u001b[38;5;241m*\u001b[39mfit_params_steps)\n\u001b[0;32m    391\u001b[0m \u001b[38;5;28;01mwith\u001b[39;00m _print_elapsed_time(\u001b[38;5;124m\"\u001b[39m\u001b[38;5;124mPipeline\u001b[39m\u001b[38;5;124m\"\u001b[39m, \u001b[38;5;28mself\u001b[39m\u001b[38;5;241m.\u001b[39m_log_message(\u001b[38;5;28mlen\u001b[39m(\u001b[38;5;28mself\u001b[39m\u001b[38;5;241m.\u001b[39msteps) \u001b[38;5;241m-\u001b[39m \u001b[38;5;241m1\u001b[39m)):\n\u001b[0;32m    392\u001b[0m     \u001b[38;5;28;01mif\u001b[39;00m \u001b[38;5;28mself\u001b[39m\u001b[38;5;241m.\u001b[39m_final_estimator \u001b[38;5;241m!=\u001b[39m \u001b[38;5;124m\"\u001b[39m\u001b[38;5;124mpassthrough\u001b[39m\u001b[38;5;124m\"\u001b[39m:\n",
      "File \u001b[1;32mF:\\installations\\lib\\site-packages\\sklearn\\pipeline.py:348\u001b[0m, in \u001b[0;36mPipeline._fit\u001b[1;34m(self, X, y, **fit_params_steps)\u001b[0m\n\u001b[0;32m    346\u001b[0m     cloned_transformer \u001b[38;5;241m=\u001b[39m clone(transformer)\n\u001b[0;32m    347\u001b[0m \u001b[38;5;66;03m# Fit or load from cache the current transformer\u001b[39;00m\n\u001b[1;32m--> 348\u001b[0m X, fitted_transformer \u001b[38;5;241m=\u001b[39m fit_transform_one_cached(\n\u001b[0;32m    349\u001b[0m     cloned_transformer,\n\u001b[0;32m    350\u001b[0m     X,\n\u001b[0;32m    351\u001b[0m     y,\n\u001b[0;32m    352\u001b[0m     \u001b[38;5;28;01mNone\u001b[39;00m,\n\u001b[0;32m    353\u001b[0m     message_clsname\u001b[38;5;241m=\u001b[39m\u001b[38;5;124m\"\u001b[39m\u001b[38;5;124mPipeline\u001b[39m\u001b[38;5;124m\"\u001b[39m,\n\u001b[0;32m    354\u001b[0m     message\u001b[38;5;241m=\u001b[39m\u001b[38;5;28mself\u001b[39m\u001b[38;5;241m.\u001b[39m_log_message(step_idx),\n\u001b[0;32m    355\u001b[0m     \u001b[38;5;241m*\u001b[39m\u001b[38;5;241m*\u001b[39mfit_params_steps[name],\n\u001b[0;32m    356\u001b[0m )\n\u001b[0;32m    357\u001b[0m \u001b[38;5;66;03m# Replace the transformer of the step with the fitted\u001b[39;00m\n\u001b[0;32m    358\u001b[0m \u001b[38;5;66;03m# transformer. This is necessary when loading the transformer\u001b[39;00m\n\u001b[0;32m    359\u001b[0m \u001b[38;5;66;03m# from the cache.\u001b[39;00m\n\u001b[0;32m    360\u001b[0m \u001b[38;5;28mself\u001b[39m\u001b[38;5;241m.\u001b[39msteps[step_idx] \u001b[38;5;241m=\u001b[39m (name, fitted_transformer)\n",
      "File \u001b[1;32mF:\\installations\\lib\\site-packages\\joblib\\memory.py:349\u001b[0m, in \u001b[0;36mNotMemorizedFunc.__call__\u001b[1;34m(self, *args, **kwargs)\u001b[0m\n\u001b[0;32m    348\u001b[0m \u001b[38;5;28;01mdef\u001b[39;00m \u001b[38;5;21m__call__\u001b[39m(\u001b[38;5;28mself\u001b[39m, \u001b[38;5;241m*\u001b[39margs, \u001b[38;5;241m*\u001b[39m\u001b[38;5;241m*\u001b[39mkwargs):\n\u001b[1;32m--> 349\u001b[0m     \u001b[38;5;28;01mreturn\u001b[39;00m \u001b[38;5;28mself\u001b[39m\u001b[38;5;241m.\u001b[39mfunc(\u001b[38;5;241m*\u001b[39margs, \u001b[38;5;241m*\u001b[39m\u001b[38;5;241m*\u001b[39mkwargs)\n",
      "File \u001b[1;32mF:\\installations\\lib\\site-packages\\sklearn\\pipeline.py:893\u001b[0m, in \u001b[0;36m_fit_transform_one\u001b[1;34m(transformer, X, y, weight, message_clsname, message, **fit_params)\u001b[0m\n\u001b[0;32m    891\u001b[0m \u001b[38;5;28;01mwith\u001b[39;00m _print_elapsed_time(message_clsname, message):\n\u001b[0;32m    892\u001b[0m     \u001b[38;5;28;01mif\u001b[39;00m \u001b[38;5;28mhasattr\u001b[39m(transformer, \u001b[38;5;124m\"\u001b[39m\u001b[38;5;124mfit_transform\u001b[39m\u001b[38;5;124m\"\u001b[39m):\n\u001b[1;32m--> 893\u001b[0m         res \u001b[38;5;241m=\u001b[39m transformer\u001b[38;5;241m.\u001b[39mfit_transform(X, y, \u001b[38;5;241m*\u001b[39m\u001b[38;5;241m*\u001b[39mfit_params)\n\u001b[0;32m    894\u001b[0m     \u001b[38;5;28;01melse\u001b[39;00m:\n\u001b[0;32m    895\u001b[0m         res \u001b[38;5;241m=\u001b[39m transformer\u001b[38;5;241m.\u001b[39mfit(X, y, \u001b[38;5;241m*\u001b[39m\u001b[38;5;241m*\u001b[39mfit_params)\u001b[38;5;241m.\u001b[39mtransform(X)\n",
      "File \u001b[1;32mF:\\installations\\lib\\site-packages\\sklearn\\compose\\_column_transformer.py:672\u001b[0m, in \u001b[0;36mColumnTransformer.fit_transform\u001b[1;34m(self, X, y)\u001b[0m\n\u001b[0;32m    670\u001b[0m \u001b[38;5;28mself\u001b[39m\u001b[38;5;241m.\u001b[39m_check_n_features(X, reset\u001b[38;5;241m=\u001b[39m\u001b[38;5;28;01mTrue\u001b[39;00m)\n\u001b[0;32m    671\u001b[0m \u001b[38;5;28mself\u001b[39m\u001b[38;5;241m.\u001b[39m_validate_transformers()\n\u001b[1;32m--> 672\u001b[0m \u001b[38;5;28;43mself\u001b[39;49m\u001b[38;5;241;43m.\u001b[39;49m\u001b[43m_validate_column_callables\u001b[49m\u001b[43m(\u001b[49m\u001b[43mX\u001b[49m\u001b[43m)\u001b[49m\n\u001b[0;32m    673\u001b[0m \u001b[38;5;28mself\u001b[39m\u001b[38;5;241m.\u001b[39m_validate_remainder(X)\n\u001b[0;32m    675\u001b[0m result \u001b[38;5;241m=\u001b[39m \u001b[38;5;28mself\u001b[39m\u001b[38;5;241m.\u001b[39m_fit_transform(X, y, _fit_transform_one)\n",
      "File \u001b[1;32mF:\\installations\\lib\\site-packages\\sklearn\\compose\\_column_transformer.py:352\u001b[0m, in \u001b[0;36mColumnTransformer._validate_column_callables\u001b[1;34m(self, X)\u001b[0m\n\u001b[0;32m    350\u001b[0m         columns \u001b[38;5;241m=\u001b[39m columns(X)\n\u001b[0;32m    351\u001b[0m     all_columns\u001b[38;5;241m.\u001b[39mappend(columns)\n\u001b[1;32m--> 352\u001b[0m     transformer_to_input_indices[name] \u001b[38;5;241m=\u001b[39m \u001b[43m_get_column_indices\u001b[49m\u001b[43m(\u001b[49m\u001b[43mX\u001b[49m\u001b[43m,\u001b[49m\u001b[43m \u001b[49m\u001b[43mcolumns\u001b[49m\u001b[43m)\u001b[49m\n\u001b[0;32m    354\u001b[0m \u001b[38;5;28mself\u001b[39m\u001b[38;5;241m.\u001b[39m_columns \u001b[38;5;241m=\u001b[39m all_columns\n\u001b[0;32m    355\u001b[0m \u001b[38;5;28mself\u001b[39m\u001b[38;5;241m.\u001b[39m_transformer_to_input_indices \u001b[38;5;241m=\u001b[39m transformer_to_input_indices\n",
      "File \u001b[1;32mF:\\installations\\lib\\site-packages\\sklearn\\utils\\__init__.py:401\u001b[0m, in \u001b[0;36m_get_column_indices\u001b[1;34m(X, key)\u001b[0m\n\u001b[0;32m    399\u001b[0m         idx \u001b[38;5;241m=\u001b[39m _safe_indexing(np\u001b[38;5;241m.\u001b[39marange(n_columns), key)\n\u001b[0;32m    400\u001b[0m     \u001b[38;5;28;01mexcept\u001b[39;00m \u001b[38;5;167;01mIndexError\u001b[39;00m \u001b[38;5;28;01mas\u001b[39;00m e:\n\u001b[1;32m--> 401\u001b[0m         \u001b[38;5;28;01mraise\u001b[39;00m \u001b[38;5;167;01mValueError\u001b[39;00m(\n\u001b[0;32m    402\u001b[0m             \u001b[38;5;124m\"\u001b[39m\u001b[38;5;124mall features must be in [0, \u001b[39m\u001b[38;5;132;01m{}\u001b[39;00m\u001b[38;5;124m] or [-\u001b[39m\u001b[38;5;132;01m{}\u001b[39;00m\u001b[38;5;124m, 0]\u001b[39m\u001b[38;5;124m\"\u001b[39m\u001b[38;5;241m.\u001b[39mformat(\n\u001b[0;32m    403\u001b[0m                 n_columns \u001b[38;5;241m-\u001b[39m \u001b[38;5;241m1\u001b[39m, n_columns\n\u001b[0;32m    404\u001b[0m             )\n\u001b[0;32m    405\u001b[0m         ) \u001b[38;5;28;01mfrom\u001b[39;00m \u001b[38;5;21;01me\u001b[39;00m\n\u001b[0;32m    406\u001b[0m     \u001b[38;5;28;01mreturn\u001b[39;00m np\u001b[38;5;241m.\u001b[39matleast_1d(idx)\u001b[38;5;241m.\u001b[39mtolist()\n\u001b[0;32m    407\u001b[0m \u001b[38;5;28;01melif\u001b[39;00m key_dtype \u001b[38;5;241m==\u001b[39m \u001b[38;5;124m\"\u001b[39m\u001b[38;5;124mstr\u001b[39m\u001b[38;5;124m\"\u001b[39m:\n",
      "\u001b[1;31mValueError\u001b[0m: all features must be in [0, 3] or [-4, 0]"
     ]
    }
   ],
   "source": [
    "pipe.fit(x_train,y_train)"
   ]
  },
  {
   "cell_type": "code",
   "execution_count": null,
   "id": "6b4c4450",
   "metadata": {},
   "outputs": [],
   "source": [
    "pipe.named_steps"
   ]
  },
  {
   "cell_type": "code",
   "execution_count": null,
   "id": "8b0aac42",
   "metadata": {},
   "outputs": [],
   "source": [
    "#pipe.named_steps['trf1'].transformers_"
   ]
  },
  {
   "cell_type": "code",
   "execution_count": null,
   "id": "81182250",
   "metadata": {},
   "outputs": [],
   "source": [
    "from sklearn  import set_config\n",
    "set_config(display='diagram')"
   ]
  },
  {
   "cell_type": "code",
   "execution_count": null,
   "id": "7d8a031f",
   "metadata": {},
   "outputs": [],
   "source": [
    "y_predict_train = pipe.predict(x_train)"
   ]
  },
  {
   "cell_type": "code",
   "execution_count": null,
   "id": "a554ce26",
   "metadata": {},
   "outputs": [],
   "source": [
    "#MAE\n",
    "np.mean(np.abs(y_train - y_predict_train))"
   ]
  },
  {
   "cell_type": "code",
   "execution_count": null,
   "id": "5294827b",
   "metadata": {},
   "outputs": [],
   "source": [
    "#MSE\n",
    "np.mean((y_train - y_predict_train)**2)"
   ]
  },
  {
   "cell_type": "code",
   "execution_count": null,
   "id": "83c89a17",
   "metadata": {},
   "outputs": [],
   "source": [
    "np.sqrt(np.mean((y_train - y_predict_train)**2))"
   ]
  },
  {
   "cell_type": "code",
   "execution_count": null,
   "id": "a9868737",
   "metadata": {},
   "outputs": [],
   "source": [
    "#MAPE\n",
    "np.mean(np.abs(y_train - y_predict_train)/y_train)*100"
   ]
  },
  {
   "cell_type": "markdown",
   "id": "301326ee",
   "metadata": {},
   "source": [
    "### Test accuracy"
   ]
  },
  {
   "cell_type": "code",
   "execution_count": null,
   "id": "0eab88b6",
   "metadata": {},
   "outputs": [],
   "source": [
    "# Predict\n",
    "y_pred = pipe.predict(x_test)"
   ]
  },
  {
   "cell_type": "code",
   "execution_count": null,
   "id": "15637792",
   "metadata": {},
   "outputs": [],
   "source": [
    "#MAE\n",
    "np.mean(np.abs(y_test - y_pred))"
   ]
  },
  {
   "cell_type": "code",
   "execution_count": null,
   "id": "8f56a447",
   "metadata": {},
   "outputs": [],
   "source": [
    "#MSE\n",
    "np.mean((y_test - y_pred)**2)"
   ]
  },
  {
   "cell_type": "code",
   "execution_count": null,
   "id": "9744c1c7",
   "metadata": {},
   "outputs": [],
   "source": [
    "np.sqrt(np.mean((y_test - y_pred)**2))"
   ]
  },
  {
   "cell_type": "code",
   "execution_count": null,
   "id": "fbc8a313",
   "metadata": {},
   "outputs": [],
   "source": [
    "#MAPE\n",
    "np.mean(np.abs(y_test - y_pred)/y_test)*100"
   ]
  },
  {
   "cell_type": "code",
   "execution_count": null,
   "id": "40cc9804",
   "metadata": {},
   "outputs": [],
   "source": [
    "#cross validation using cross_val_score\n",
    "from sklearn.model_selection import cross_val_score\n",
    "cross_val_score(pipe, x_train, y_train, cv=5, scoring='accuracy').mean()"
   ]
  },
  {
   "cell_type": "code",
   "execution_count": null,
   "id": "5613c5dc",
   "metadata": {},
   "outputs": [],
   "source": [
    "# gridsearchcv\n",
    "params = {\n",
    "'trf4_max_depth': [1,2,3,4,5,None] }"
   ]
  },
  {
   "cell_type": "code",
   "execution_count": null,
   "id": "e5d92710",
   "metadata": {},
   "outputs": [],
   "source": [
    "params={'n_neighbors': [1,2,3,4,5]}"
   ]
  },
  {
   "cell_type": "code",
   "execution_count": null,
   "id": "68aa742b",
   "metadata": {},
   "outputs": [],
   "source": [
    "grid = GridSearchCV(pipe, params, cv=2, n_jobs=-1)\n",
    "grid.fit(x_train, y_train)"
   ]
  },
  {
   "cell_type": "code",
   "execution_count": null,
   "id": "703fa8b3",
   "metadata": {},
   "outputs": [],
   "source": [
    "grid.best_score_"
   ]
  },
  {
   "cell_type": "code",
   "execution_count": null,
   "id": "8de29af8",
   "metadata": {},
   "outputs": [],
   "source": [
    "grid.best_params_"
   ]
  },
  {
   "cell_type": "code",
   "execution_count": null,
   "id": "ef8d86c7",
   "metadata": {},
   "outputs": [],
   "source": []
  },
  {
   "cell_type": "code",
   "execution_count": null,
   "id": "566836ee",
   "metadata": {},
   "outputs": [],
   "source": [
    "\n",
    "pickle.dump(pipe,open('pipe.pkl\",'wb'))"
   ]
  },
  {
   "cell_type": "code",
   "execution_count": null,
   "id": "772510d6",
   "metadata": {},
   "outputs": [],
   "source": []
  },
  {
   "cell_type": "code",
   "execution_count": null,
   "id": "6a1184ff",
   "metadata": {},
   "outputs": [],
   "source": [
    "pipe = pickle.load(open(\"pipe.pk1','rb'))"
   ]
  },
  {
   "cell_type": "code",
   "execution_count": null,
   "id": "07906395",
   "metadata": {},
   "outputs": [],
   "source": [
    "test_input2 = np.array([2, 'male', 31.0, 0, 0, 10.5, 's'],dtype=object).reshape(1,7)"
   ]
  },
  {
   "cell_type": "code",
   "execution_count": null,
   "id": "fde3ac09",
   "metadata": {},
   "outputs": [],
   "source": [
    "pipe.predict(test_input2)"
   ]
  },
  {
   "cell_type": "code",
   "execution_count": null,
   "id": "ed9ae334",
   "metadata": {},
   "outputs": [],
   "source": []
  },
  {
   "cell_type": "code",
   "execution_count": 65,
   "id": "ef9e3786",
   "metadata": {},
   "outputs": [
    {
     "data": {
      "text/plain": [
       "DecisionTreeRegressor(max_depth=3, min_samples_leaf=5)"
      ]
     },
     "execution_count": 65,
     "metadata": {},
     "output_type": "execute_result"
    }
   ],
   "source": [
    "reg_tree = DecisionTreeRegressor(max_depth=3,min_samples_leaf=5)\n",
    "reg_tree.fit(x_train ,y_train)\n"
   ]
  },
  {
   "cell_type": "code",
   "execution_count": 66,
   "id": "895371cc",
   "metadata": {},
   "outputs": [
    {
     "data": {
      "image/png": "[encoded data removed]",
      "text/plain": [
       "<Figure size 1800x1800 with 1 Axes>"
      ]
     },
     "metadata": {
      "needs_background": "light"
     },
     "output_type": "display_data"
    }
   ],
   "source": [
    "fig , axes = plt.subplots(figsize=(6,6), dpi=300)\n",
    "tree.plot_tree(reg_tree , feature_names = list(x),filled = True)\n",
    "plt.show()\n"
   ]
  },
  {
   "cell_type": "code",
   "execution_count": 67,
   "id": "a0f17fbc",
   "metadata": {},
   "outputs": [
    {
     "data": {
      "text/plain": [
       "array([9.01828121, 3.22149425, 9.01828121, ..., 9.01828121, 9.01828121,\n",
       "       9.01828121])"
      ]
     },
     "execution_count": 67,
     "metadata": {},
     "output_type": "execute_result"
    }
   ],
   "source": [
    "y_predict_train = reg_tree.predict(x_train)\n",
    "y_predict_train"
   ]
  },
  {
   "cell_type": "code",
   "execution_count": 68,
   "id": "2c59e646",
   "metadata": {},
   "outputs": [
    {
     "data": {
      "text/plain": [
       "5.402373554154247"
      ]
     },
     "execution_count": 68,
     "metadata": {},
     "output_type": "execute_result"
    }
   ],
   "source": [
    "#MAE\n",
    "np.mean(np.abs(y_train - y_predict_train))"
   ]
  },
  {
   "cell_type": "code",
   "execution_count": 69,
   "id": "4ca8254f",
   "metadata": {},
   "outputs": [
    {
     "data": {
      "text/plain": [
       "63.85923208524829"
      ]
     },
     "execution_count": 69,
     "metadata": {},
     "output_type": "execute_result"
    }
   ],
   "source": [
    "#MSE\n",
    "np.mean((y_train - y_predict_train)**2)"
   ]
  },
  {
   "cell_type": "code",
   "execution_count": 70,
   "id": "98c64321",
   "metadata": {},
   "outputs": [],
   "source": [
    "params = {\n",
    "'max_depth': [1,2,3,4,5,6,7,8,9,10,11,None],\n",
    "'max_features' : [1,2,3,None],\n",
    "'min_samples_split' : [1,2,3,4,5],\n",
    "'min_samples_leaf' : [10,100,250,400]}"
   ]
  },
  {
   "cell_type": "code",
   "execution_count": 71,
   "id": "11b8b4df",
   "metadata": {},
   "outputs": [
    {
     "name": "stderr",
     "output_type": "stream",
     "text": [
      "F:\\installations\\lib\\site-packages\\sklearn\\model_selection\\_validation.py:372: FitFailedWarning: \n",
      "384 fits failed out of a total of 1920.\n",
      "The score on these train-test partitions for these parameters will be set to nan.\n",
      "If these failures are not expected, you can try to debug them by setting error_score='raise'.\n",
      "\n",
      "Below are more details about the failures:\n",
      "--------------------------------------------------------------------------------\n",
      "384 fits failed with the following error:\n",
      "Traceback (most recent call last):\n",
      "  File \"F:\\installations\\lib\\site-packages\\sklearn\\model_selection\\_validation.py\", line 680, in _fit_and_score\n",
      "    estimator.fit(X_train, y_train, **fit_params)\n",
      "  File \"F:\\installations\\lib\\site-packages\\sklearn\\tree\\_classes.py\", line 1315, in fit\n",
      "    super().fit(\n",
      "  File \"F:\\installations\\lib\\site-packages\\sklearn\\tree\\_classes.py\", line 250, in fit\n",
      "    raise ValueError(\n",
      "ValueError: min_samples_split must be an integer greater than 1 or a float in (0.0, 1.0]; got the integer 1\n",
      "\n",
      "  warnings.warn(some_fits_failed_message, FitFailedWarning)\n",
      "F:\\installations\\lib\\site-packages\\sklearn\\model_selection\\_search.py:969: UserWarning: One or more of the test scores are non-finite: [        nan  0.00752958  0.01690023  0.00357613 -0.00013835         nan\n",
      "  0.01335955 -0.00013835 -0.00013835 -0.00013835         nan  0.01285975\n",
      " -0.00013835  0.01285975 -0.00013835         nan  0.01335955 -0.00013835\n",
      "  0.01285975  0.01335955         nan  0.02668365  0.01318575  0.01690023\n",
      "  0.02668365         nan  0.01335955 -0.00013835  0.01285975  0.02635766\n",
      "         nan  0.02635766  0.01285975  0.01335955  0.01285975         nan\n",
      " -0.00013835  0.02635766  0.01335955 -0.00013835         nan  0.01657424\n",
      "  0.01690023  0.01690023  0.02635766         nan  0.02635766  0.01335955\n",
      "  0.02635766  0.02635766         nan  0.02635766  0.02635766  0.01335955\n",
      "  0.02635766         nan  0.02635766  0.01335955  0.02635766 -0.00013835\n",
      "         nan  0.02668365  0.02668365  0.02668365  0.02668365         nan\n",
      "  0.02635766  0.02635766  0.02635766  0.02635766         nan  0.02635766\n",
      "  0.02635766  0.02635766  0.02635766         nan  0.02635766  0.02635766\n",
      "  0.02635766  0.02635766         nan  0.01285975  0.01285975  0.01318575\n",
      " -0.00013835         nan -0.00013835 -0.00013835 -0.00013835 -0.00013835\n",
      "         nan  0.01285975  0.01335955 -0.00013835 -0.00013835         nan\n",
      " -0.00013835 -0.00013835 -0.00013835 -0.00013835         nan  0.02072503\n",
      "  0.02635766  0.01318575  0.03147233         nan  0.01285975  0.01335955\n",
      "  0.01335955  0.02635766         nan  0.02635766 -0.00013835 -0.00013835\n",
      "  0.01335955         nan  0.02635766 -0.00013835  0.02635766  0.02635766\n",
      "         nan  0.04368122  0.03900885  0.03900885  0.0361447          nan\n",
      "  0.01335955  0.02635766  0.01285975  0.02635766         nan  0.01335955\n",
      "  0.02635766  0.02635766  0.02635766         nan  0.02635766  0.01335955\n",
      "  0.02635766 -0.00013835         nan  0.04368122  0.04368122  0.04368122\n",
      "  0.04368122         nan  0.02635766  0.02635766  0.02635766  0.02635766\n",
      "         nan  0.02635766  0.02635766  0.02635766  0.02635766         nan\n",
      "  0.02635766  0.02635766  0.02635766  0.02635766         nan  0.0038151\n",
      " -0.00013835  0.01335955  0.0341606          nan  0.01285975  0.01285975\n",
      "  0.01285975 -0.00013835         nan  0.01285975 -0.00013835  0.01285975\n",
      " -0.00013835         nan -0.00013835 -0.00013835  0.01285975 -0.00013835\n",
      "         nan  0.03044612  0.02551095  0.03900885  0.02668365         nan\n",
      " -0.00013835  0.01335955  0.01335955  0.02635766         nan  0.01335955\n",
      " -0.00013835 -0.00013835  0.01335955         nan  0.02635766  0.02635766\n",
      "  0.01335955  0.01335955         nan  0.03050845  0.04861639  0.04368122\n",
      "  0.04394402         nan  0.02635766  0.01285975  0.02635766  0.02635766\n",
      "         nan  0.02635766  0.02635766  0.01285975  0.01335955         nan\n",
      "  0.02635766  0.02635766 -0.00013835  0.01285975         nan  0.04861639\n",
      "  0.04861639  0.04861639  0.04861639         nan  0.02635766  0.02635766\n",
      "  0.02635766  0.02635766         nan  0.02635766  0.02635766  0.02635766\n",
      "  0.02635766         nan  0.02635766  0.02635766  0.02635766  0.02635766\n",
      "         nan  0.00357613  0.02072503  0.01701055  0.0361447          nan\n",
      " -0.00013835 -0.00013835 -0.00013835 -0.00013835         nan  0.02635766\n",
      " -0.00013835 -0.00013835  0.01335955         nan  0.02635766  0.01335955\n",
      " -0.00013835 -0.00013835         nan  0.04861639  0.0341606   0.03044612\n",
      "  0.03518083         nan  0.02635766 -0.00013835  0.01285975  0.01285975\n",
      "         nan -0.00013835  0.01335955  0.01335955  0.02635766         nan\n",
      "  0.01285975  0.02635766  0.01285975  0.01285975         nan  0.04861639\n",
      "  0.04368122  0.04861639  0.04861639         nan  0.01335955  0.01285975\n",
      "  0.02635766  0.01335955         nan  0.01285975  0.01335955  0.02635766\n",
      "  0.01335955         nan  0.02635766  0.02635766  0.02635766  0.01335955\n",
      "         nan  0.04861639  0.04861639  0.04861639  0.04861639         nan\n",
      "  0.02635766  0.02635766  0.02635766  0.02635766         nan  0.02635766\n",
      "  0.02635766  0.02635766  0.02635766         nan  0.02635766  0.02635766\n",
      "  0.02635766  0.02635766         nan  0.03900885  0.01690023  0.03518083\n",
      "  0.01701055         nan -0.00013835  0.01335955  0.01285975 -0.00013835\n",
      "         nan -0.00013835  0.01285975 -0.00013835  0.01335955         nan\n",
      "  0.01335955 -0.00013835 -0.00013835  0.01285975         nan  0.04861639\n",
      "  0.0341606   0.04394402  0.03900885         nan  0.02635766  0.02635766\n",
      " -0.00013835  0.01285975         nan  0.02635766  0.01335955  0.01335955\n",
      "  0.01285975         nan -0.00013835  0.01285975 -0.00013835 -0.00013835\n",
      "         nan  0.04861639  0.04394402  0.04394402  0.04368122         nan\n",
      "  0.01335955  0.02635766  0.02635766  0.02635766         nan  0.01335955\n",
      "  0.02635766  0.02635766  0.02635766         nan  0.02635766  0.02635766\n",
      "  0.01335955  0.02635766         nan  0.04861639  0.04861639  0.04861639\n",
      "  0.04861639         nan  0.02635766  0.02635766  0.02635766  0.02635766\n",
      "         nan  0.02635766  0.02635766  0.02635766  0.02635766         nan\n",
      "  0.02635766  0.02635766  0.02635766  0.02635766         nan  0.01657424\n",
      "  0.01335955  0.02551095  0.00357613         nan -0.00013835  0.01285975\n",
      " -0.00013835  0.01285975         nan -0.00013835  0.01285975 -0.00013835\n",
      " -0.00013835         nan -0.00013835  0.01285975 -0.00013835 -0.00013835\n",
      "         nan  0.01797443  0.04368122  0.02922543  0.04394402         nan\n",
      " -0.00013835  0.01285975 -0.00013835  0.01285975         nan  0.02635766\n",
      "  0.01285975 -0.00013835 -0.00013835         nan  0.02635766  0.01285975\n",
      " -0.00013835  0.02635766         nan  0.04394402  0.04861639  0.04861639\n",
      "  0.04368122         nan  0.02635766  0.01285975  0.02635766  0.02635766\n",
      "         nan  0.01285975  0.02635766  0.02635766  0.01335955         nan\n",
      "  0.02635766 -0.00013835  0.01285975  0.02635766         nan  0.04861639\n",
      "  0.04861639  0.04861639  0.04861639         nan  0.02635766  0.02635766\n",
      "  0.02635766  0.02635766         nan  0.02635766  0.02635766  0.02635766\n",
      "  0.02635766         nan  0.02635766  0.02635766  0.02635766  0.02635766\n",
      "         nan  0.0341606   0.02072503  0.03044612  0.02668365         nan\n",
      " -0.00013835 -0.00013835  0.01335955 -0.00013835         nan  0.01285975\n",
      " -0.00013835 -0.00013835  0.01285975         nan  0.01285975 -0.00013835\n",
      "  0.01285975 -0.00013835         nan  0.03518083  0.04394402  0.0341606\n",
      "  0.04368122         nan -0.00013835  0.01335955 -0.00013835  0.01335955\n",
      "         nan  0.01285975  0.01335955  0.01285975  0.01285975         nan\n",
      "  0.01285975  0.01285975  0.01285975  0.02635766         nan  0.04861639\n",
      "  0.04861639  0.04861639  0.04861639         nan  0.01335955  0.02635766\n",
      "  0.01335955  0.02635766         nan  0.02635766  0.02635766  0.02635766\n",
      "  0.01335955         nan  0.02635766  0.02635766  0.02635766  0.01285975\n",
      "         nan  0.04861639  0.04861639  0.04861639  0.04861639         nan\n",
      "  0.02635766  0.02635766  0.02635766  0.02635766         nan  0.02635766\n",
      "  0.02635766  0.02635766  0.02635766         nan  0.02635766  0.02635766\n",
      "  0.02635766  0.02635766         nan  0.04368122  0.01803193  0.03900885\n",
      "  0.01285975         nan  0.01285975  0.01285975  0.01335955  0.01335955\n",
      "         nan  0.01335955  0.01285975 -0.00013835  0.01335955         nan\n",
      " -0.00013835 -0.00013835  0.01285975 -0.00013835         nan  0.03103003\n",
      "  0.03044612  0.017313    0.04394402         nan -0.00013835  0.01335955\n",
      "  0.02635766  0.01335955         nan -0.00013835  0.01335955 -0.00013835\n",
      "  0.01335955         nan  0.01285975  0.01285975  0.02635766 -0.00013835\n",
      "         nan  0.04861639  0.04861639  0.04861639  0.04861639         nan\n",
      " -0.00013835  0.02635766  0.02635766  0.02635766         nan  0.01285975\n",
      "  0.02635766  0.02635766  0.02635766         nan  0.02635766  0.01335955\n",
      "  0.02635766  0.02635766         nan  0.04861639  0.04861639  0.04861639\n",
      "  0.04861639         nan  0.02635766  0.02635766  0.02635766  0.02635766\n",
      "         nan  0.02635766  0.02635766  0.02635766  0.02635766         nan\n",
      "  0.02635766  0.02635766  0.02635766  0.02635766         nan  0.01701055\n",
      "  0.02551095  0.01285975  0.02168891         nan  0.01335955 -0.00013835\n",
      "  0.01335955 -0.00013835         nan -0.00013835  0.01285975  0.01285975\n",
      " -0.00013835         nan  0.01285975 -0.00013835  0.01335955  0.01335955\n",
      "         nan  0.04861639  0.01701055  0.03518083  0.01690023         nan\n",
      " -0.00013835  0.02635766 -0.00013835 -0.00013835         nan  0.01335955\n",
      "  0.01335955  0.02635766  0.01335955         nan -0.00013835  0.02635766\n",
      "  0.02635766  0.01335955         nan  0.04394402  0.04394402  0.0341606\n",
      "  0.04368122         nan  0.02635766  0.02635766  0.02635766  0.02635766\n",
      "         nan -0.00013835  0.01285975  0.02635766  0.02635766         nan\n",
      "  0.02635766  0.02635766  0.02635766 -0.00013835         nan  0.04861639\n",
      "  0.04861639  0.04861639  0.04861639         nan  0.02635766  0.02635766\n",
      "  0.02635766  0.02635766         nan  0.02635766  0.02635766  0.02635766\n",
      "  0.02635766         nan  0.02635766  0.02635766  0.02635766  0.02635766\n",
      "         nan  0.04861639  0.01690023  0.02168891  0.00357613         nan\n",
      " -0.00013835  0.01335955 -0.00013835 -0.00013835         nan -0.00013835\n",
      "  0.01335955 -0.00013835 -0.00013835         nan  0.02635766  0.02635766\n",
      "  0.01335955 -0.00013835         nan  0.03044612  0.04394402  0.02635766\n",
      "  0.03135603         nan  0.01285975  0.02635766  0.01335955 -0.00013835\n",
      "         nan -0.00013835  0.02635766  0.02635766 -0.00013835         nan\n",
      "  0.02635766  0.02635766 -0.00013835  0.02635766         nan  0.04861639\n",
      "  0.0341606   0.04368122  0.03050845         nan  0.02635766  0.02635766\n",
      "  0.02635766 -0.00013835         nan  0.02635766  0.02635766  0.01335955\n",
      "  0.02635766         nan  0.02635766  0.01335955  0.01285975  0.02635766\n",
      "         nan  0.04861639  0.04861639  0.04861639  0.04861639         nan\n",
      "  0.02635766  0.02635766  0.02635766  0.02635766         nan  0.02635766\n",
      "  0.02635766  0.02635766  0.02635766         nan  0.02635766  0.02635766\n",
      "  0.02635766  0.02635766         nan  0.00357613  0.01701055  0.03044612\n",
      "  0.03044612         nan  0.01285975  0.02635766 -0.00013835 -0.00013835\n",
      "         nan -0.00013835 -0.00013835  0.01285975 -0.00013835         nan\n",
      " -0.00013835 -0.00013835 -0.00013835  0.02635766         nan  0.00752958\n",
      "  0.04861639  0.01318575  0.04394402         nan  0.01335955  0.01285975\n",
      " -0.00013835  0.02635766         nan -0.00013835  0.01335955  0.01285975\n",
      " -0.00013835         nan  0.01285975  0.02635766 -0.00013835 -0.00013835\n",
      "         nan  0.04368122  0.04861639  0.04368122  0.04861639         nan\n",
      "  0.02635766  0.01285975  0.01285975  0.01285975         nan  0.02635766\n",
      " -0.00013835  0.02635766  0.01285975         nan  0.01285975  0.02635766\n",
      "  0.02635766  0.01335955         nan  0.04861639  0.04861639  0.04861639\n",
      "  0.04861639         nan  0.02635766  0.02635766  0.02635766  0.02635766\n",
      "         nan  0.02635766  0.02635766  0.02635766  0.02635766         nan\n",
      "  0.02635766  0.02635766  0.02635766  0.02635766         nan  0.017313\n",
      "  0.0341606  -0.00013835  0.02072503         nan -0.00013835 -0.00013835\n",
      " -0.00013835 -0.00013835         nan  0.01285975 -0.00013835 -0.00013835\n",
      " -0.00013835         nan -0.00013835 -0.00013835  0.02635766  0.01335955\n",
      "         nan  0.04861639  0.04368122  0.0361447   0.04368122         nan\n",
      "  0.02635766  0.02635766  0.01335955 -0.00013835         nan  0.02635766\n",
      "  0.01335955  0.01335955  0.01335955         nan  0.02635766  0.02635766\n",
      "  0.02635766 -0.00013835         nan  0.0341606   0.04394402  0.04394402\n",
      "  0.04861639         nan  0.01335955  0.01285975 -0.00013835  0.02635766\n",
      "         nan  0.02635766  0.02635766  0.01285975  0.02635766         nan\n",
      "  0.02635766  0.02635766  0.02635766  0.01285975         nan  0.04861639\n",
      "  0.04861639  0.04861639  0.04861639         nan  0.02635766  0.02635766\n",
      "  0.02635766  0.02635766         nan  0.02635766  0.02635766  0.02635766\n",
      "  0.02635766         nan  0.02635766  0.02635766  0.02635766  0.02635766]\n",
      "  warnings.warn(\n"
     ]
    },
    {
     "data": {
      "text/plain": [
       "GridSearchCV(cv=2, estimator=DecisionTreeRegressor(), n_jobs=-1,\n",
       "             param_grid={'max_depth': [1, 2, 3, 4, 5, 6, 7, 8, 9, 10, 11, None],\n",
       "                         'max_features': [1, 2, 3, None],\n",
       "                         'min_samples_leaf': [10, 100, 250, 400],\n",
       "                         'min_samples_split': [1, 2, 3, 4, 5]})"
      ]
     },
     "execution_count": 71,
     "metadata": {},
     "output_type": "execute_result"
    }
   ],
   "source": [
    "grid = GridSearchCV( DecisionTreeRegressor(), params, cv=2, n_jobs=-1)\n",
    "grid.fit(x_train, y_train)"
   ]
  },
  {
   "cell_type": "code",
   "execution_count": 72,
   "id": "63244ff3",
   "metadata": {},
   "outputs": [
    {
     "data": {
      "text/plain": [
       "0.04861639285611841"
      ]
     },
     "execution_count": 72,
     "metadata": {},
     "output_type": "execute_result"
    }
   ],
   "source": [
    "grid.best_score_"
   ]
  },
  {
   "cell_type": "code",
   "execution_count": 73,
   "id": "f754226e",
   "metadata": {},
   "outputs": [
    {
     "data": {
      "text/plain": [
       "{'max_depth': 4,\n",
       " 'max_features': 3,\n",
       " 'min_samples_leaf': 10,\n",
       " 'min_samples_split': 5}"
      ]
     },
     "execution_count": 73,
     "metadata": {},
     "output_type": "execute_result"
    }
   ],
   "source": [
    "grid.best_params_"
   ]
  },
  {
   "cell_type": "code",
   "execution_count": null,
   "id": "6367c059",
   "metadata": {},
   "outputs": [],
   "source": []
  },
  {
   "cell_type": "code",
   "execution_count": null,
   "id": "3c68f2d9",
   "metadata": {},
   "outputs": [],
   "source": [
    "Decision Tree"
   ]
  },
  {
   "cell_type": "code",
   "execution_count": null,
   "id": "e27e69c9",
   "metadata": {},
   "outputs": [],
   "source": [
    "reg_tree=pipe_decision_tree.fit(x_train,y_train)"
   ]
  },
  {
   "cell_type": "code",
   "execution_count": null,
   "id": "678ec49e",
   "metadata": {},
   "outputs": [],
   "source": [
    "fig , axes = plt.subplots(figsize=(6,6), dpi=300)\n",
    "tree.plot_tree(reg_tree , feature_names = list(clean_data),filled = True)\n",
    "plt.show()"
   ]
  },
  {
   "cell_type": "code",
   "execution_count": null,
   "id": "1583e65e",
   "metadata": {},
   "outputs": [],
   "source": []
  },
  {
   "cell_type": "code",
   "execution_count": null,
   "id": "121775ef",
   "metadata": {},
   "outputs": [],
   "source": [
    "#KNN"
   ]
  },
  {
   "cell_type": "code",
   "execution_count": 50,
   "id": "f27b6344",
   "metadata": {},
   "outputs": [],
   "source": [
    "reg_knn = KNeighborsRegressor()"
   ]
  },
  {
   "cell_type": "code",
   "execution_count": 51,
   "id": "0cf14b59",
   "metadata": {},
   "outputs": [
    {
     "data": {
      "text/plain": [
       "KNeighborsRegressor()"
      ]
     },
     "execution_count": 51,
     "metadata": {},
     "output_type": "execute_result"
    }
   ],
   "source": [
    "reg_knn.fit(x_train ,y_train)"
   ]
  },
  {
   "cell_type": "code",
   "execution_count": 52,
   "id": "39431cfc",
   "metadata": {},
   "outputs": [
    {
     "data": {
      "text/plain": [
       "array([10.85,  3.13, 10.85, ..., 10.85, 10.85, 10.85])"
      ]
     },
     "execution_count": 52,
     "metadata": {},
     "output_type": "execute_result"
    }
   ],
   "source": [
    "y_predict_train = reg_knn.predict(x_train)\n",
    "y_predict_train"
   ]
  },
  {
   "cell_type": "code",
   "execution_count": 53,
   "id": "cd761847",
   "metadata": {},
   "outputs": [
    {
     "data": {
      "text/plain": [
       "6.069318716094031"
      ]
     },
     "execution_count": 53,
     "metadata": {},
     "output_type": "execute_result"
    }
   ],
   "source": [
    "#MAE\n",
    "np.mean(np.abs(y_train - y_predict_train))"
   ]
  },
  {
   "cell_type": "code",
   "execution_count": 55,
   "id": "e5ba1750",
   "metadata": {},
   "outputs": [
    {
     "data": {
      "text/plain": [
       "66.43605296654589"
      ]
     },
     "execution_count": 55,
     "metadata": {},
     "output_type": "execute_result"
    }
   ],
   "source": [
    "#MSE\n",
    "np.mean((y_train - y_predict_train)**2)"
   ]
  },
  {
   "cell_type": "code",
   "execution_count": 56,
   "id": "93bfac13",
   "metadata": {},
   "outputs": [],
   "source": [
    "params = {\n",
    "'n_neighbors': [1,2,3,4,5,6,7,8,9,10,11,None]}"
   ]
  },
  {
   "cell_type": "code",
   "execution_count": 57,
   "id": "33c6e8a3",
   "metadata": {},
   "outputs": [
    {
     "name": "stderr",
     "output_type": "stream",
     "text": [
      "F:\\installations\\lib\\site-packages\\sklearn\\model_selection\\_search.py:969: UserWarning: One or more of the test scores are non-finite: [-0.15322499 -1.17658207 -0.37578055 -0.43992018 -0.18122481 -0.04313213\n",
      " -0.24946781 -0.15082505 -0.15340858 -0.118177   -0.11429794         nan]\n",
      "  warnings.warn(\n"
     ]
    },
    {
     "data": {
      "text/plain": [
       "GridSearchCV(cv=2, estimator=KNeighborsRegressor(), n_jobs=-1,\n",
       "             param_grid={'n_neighbors': [1, 2, 3, 4, 5, 6, 7, 8, 9, 10, 11,\n",
       "                                         None]})"
      ]
     },
     "execution_count": 57,
     "metadata": {},
     "output_type": "execute_result"
    }
   ],
   "source": [
    "grid = GridSearchCV( KNeighborsRegressor(), params, cv=2, n_jobs=-1)\n",
    "grid.fit(x_train, y_train)"
   ]
  },
  {
   "cell_type": "code",
   "execution_count": 58,
   "id": "b81115f9",
   "metadata": {},
   "outputs": [
    {
     "data": {
      "text/plain": [
       "-0.043132130444945516"
      ]
     },
     "execution_count": 58,
     "metadata": {},
     "output_type": "execute_result"
    }
   ],
   "source": [
    "grid.best_score_"
   ]
  },
  {
   "cell_type": "code",
   "execution_count": 59,
   "id": "72b8119c",
   "metadata": {},
   "outputs": [
    {
     "data": {
      "text/plain": [
       "{'n_neighbors': 6}"
      ]
     },
     "execution_count": 59,
     "metadata": {},
     "output_type": "execute_result"
    }
   ],
   "source": [
    "grid.best_params_"
   ]
  },
  {
   "cell_type": "code",
   "execution_count": null,
   "id": "de543820",
   "metadata": {},
   "outputs": [],
   "source": []
  },
  {
   "cell_type": "code",
   "execution_count": 60,
   "id": "31d9ee6c",
   "metadata": {},
   "outputs": [],
   "source": [
    "reg_knn = KNeighborsRegressor(n_neighbors=6)"
   ]
  },
  {
   "cell_type": "code",
   "execution_count": 61,
   "id": "6c9b2ee6",
   "metadata": {},
   "outputs": [
    {
     "data": {
      "text/plain": [
       "KNeighborsRegressor(n_neighbors=6)"
      ]
     },
     "execution_count": 61,
     "metadata": {},
     "output_type": "execute_result"
    }
   ],
   "source": [
    "reg_knn.fit(x_train ,y_train)"
   ]
  },
  {
   "cell_type": "code",
   "execution_count": 62,
   "id": "11efc183",
   "metadata": {},
   "outputs": [
    {
     "data": {
      "text/plain": [
       "array([9.79166667, 2.95833333, 9.79166667, ..., 9.79166667, 9.79166667,\n",
       "       9.79166667])"
      ]
     },
     "execution_count": 62,
     "metadata": {},
     "output_type": "execute_result"
    }
   ],
   "source": [
    "y_predict_train = reg_knn.predict(x_train)\n",
    "y_predict_train"
   ]
  },
  {
   "cell_type": "code",
   "execution_count": 63,
   "id": "270ee0de",
   "metadata": {},
   "outputs": [
    {
     "data": {
      "text/plain": [
       "5.648345388788425"
      ]
     },
     "execution_count": 63,
     "metadata": {},
     "output_type": "execute_result"
    }
   ],
   "source": [
    "#MAE\n",
    "\n",
    "np.mean(np.abs(y_train - y_predict_train))"
   ]
  },
  {
   "cell_type": "code",
   "execution_count": 64,
   "id": "007651dd",
   "metadata": {},
   "outputs": [
    {
     "data": {
      "text/plain": [
       "64.42903190802699"
      ]
     },
     "execution_count": 64,
     "metadata": {},
     "output_type": "execute_result"
    }
   ],
   "source": [
    "#MSE\n",
    "np.mean((y_train - y_predict_train)**2)"
   ]
  },
  {
   "cell_type": "code",
   "execution_count": null,
   "id": "cc676869",
   "metadata": {},
   "outputs": [],
   "source": []
  },
  {
   "cell_type": "code",
   "execution_count": null,
   "id": "dfd59dcd",
   "metadata": {},
   "outputs": [],
   "source": []
  },
  {
   "cell_type": "code",
   "execution_count": null,
   "id": "13fbf6d4",
   "metadata": {},
   "outputs": [],
   "source": []
  },
  {
   "cell_type": "code",
   "execution_count": null,
   "id": "703fa32c",
   "metadata": {},
   "outputs": [],
   "source": []
  },
  {
   "cell_type": "code",
   "execution_count": null,
   "id": "0e0e8c86",
   "metadata": {},
   "outputs": [],
   "source": []
  },
  {
   "cell_type": "code",
   "execution_count": null,
   "id": "bd68e95a",
   "metadata": {},
   "outputs": [],
   "source": []
  },
  {
   "cell_type": "code",
   "execution_count": null,
   "id": "bdff61ad",
   "metadata": {},
   "outputs": [],
   "source": []
  },
  {
   "cell_type": "code",
   "execution_count": null,
   "id": "a5122822",
   "metadata": {},
   "outputs": [],
   "source": []
  },
  {
   "cell_type": "code",
   "execution_count": null,
   "id": "889bd401",
   "metadata": {},
   "outputs": [],
   "source": []
  },
  {
   "cell_type": "code",
   "execution_count": null,
   "id": "72453040",
   "metadata": {},
   "outputs": [],
   "source": []
  },
  {
   "cell_type": "code",
   "execution_count": null,
   "id": "dfbbfe62",
   "metadata": {},
   "outputs": [],
   "source": []
  },
  {
   "cell_type": "code",
   "execution_count": null,
   "id": "170f94c5",
   "metadata": {},
   "outputs": [],
   "source": []
  },
  {
   "cell_type": "code",
   "execution_count": null,
   "id": "bc08a415",
   "metadata": {},
   "outputs": [],
   "source": []
  },
  {
   "cell_type": "code",
   "execution_count": null,
   "id": "90f71f3f",
   "metadata": {},
   "outputs": [],
   "source": []
  },
  {
   "cell_type": "code",
   "execution_count": null,
   "id": "aaed361d",
   "metadata": {},
   "outputs": [],
   "source": []
  },
  {
   "cell_type": "code",
   "execution_count": null,
   "id": "58b420de",
   "metadata": {},
   "outputs": [],
   "source": []
  },
  {
   "cell_type": "code",
   "execution_count": null,
   "id": "57705333",
   "metadata": {},
   "outputs": [],
   "source": []
  },
  {
   "cell_type": "code",
   "execution_count": null,
   "id": "1246abb9",
   "metadata": {},
   "outputs": [],
   "source": []
  },
  {
   "cell_type": "code",
   "execution_count": null,
   "id": "ec89da61",
   "metadata": {},
   "outputs": [],
   "source": []
  },
  {
   "cell_type": "code",
   "execution_count": null,
   "id": "f92f18d7",
   "metadata": {},
   "outputs": [],
   "source": []
  },
  {
   "cell_type": "code",
   "execution_count": null,
   "id": "f9628bfe",
   "metadata": {},
   "outputs": [],
   "source": []
  },
  {
   "cell_type": "code",
   "execution_count": null,
   "id": "a9b4453f",
   "metadata": {},
   "outputs": [],
   "source": []
  },
  {
   "cell_type": "code",
   "execution_count": null,
   "id": "1d93b16f",
   "metadata": {},
   "outputs": [],
   "source": []
  },
  {
   "cell_type": "code",
   "execution_count": null,
   "id": "909d8757",
   "metadata": {},
   "outputs": [],
   "source": []
  },
  {
   "cell_type": "code",
   "execution_count": null,
   "id": "2a3ab396",
   "metadata": {},
   "outputs": [],
   "source": []
  },
  {
   "cell_type": "code",
   "execution_count": null,
   "id": "d49f2c83",
   "metadata": {},
   "outputs": [],
   "source": []
  },
  {
   "cell_type": "code",
   "execution_count": null,
   "id": "e1e537e7",
   "metadata": {},
   "outputs": [],
   "source": []
  },
  {
   "cell_type": "code",
   "execution_count": null,
   "id": "1f954e18",
   "metadata": {},
   "outputs": [],
   "source": []
  },
  {
   "cell_type": "code",
   "execution_count": null,
   "id": "67b6eb4e",
   "metadata": {},
   "outputs": [],
   "source": []
  },
  {
   "cell_type": "code",
   "execution_count": null,
   "id": "b0e0a58f",
   "metadata": {},
   "outputs": [],
   "source": []
  },
  {
   "cell_type": "code",
   "execution_count": null,
   "id": "267a3f72",
   "metadata": {},
   "outputs": [],
   "source": []
  },
  {
   "cell_type": "code",
   "execution_count": null,
   "id": "7a3a41b8",
   "metadata": {},
   "outputs": [],
   "source": []
  },
  {
   "cell_type": "code",
   "execution_count": null,
   "id": "7f05f0ef",
   "metadata": {},
   "outputs": [],
   "source": []
  },
  {
   "cell_type": "code",
   "execution_count": null,
   "id": "b37c3979",
   "metadata": {},
   "outputs": [],
   "source": []
  },
  {
   "cell_type": "code",
   "execution_count": null,
   "id": "157455d4",
   "metadata": {},
   "outputs": [],
   "source": []
  },
  {
   "cell_type": "code",
   "execution_count": null,
   "id": "0adc4297",
   "metadata": {},
   "outputs": [],
   "source": []
  },
  {
   "cell_type": "code",
   "execution_count": null,
   "id": "d693d6ee",
   "metadata": {},
   "outputs": [],
   "source": []
  },
  {
   "cell_type": "code",
   "execution_count": null,
   "id": "ab7b00b6",
   "metadata": {},
   "outputs": [],
   "source": []
  },
  {
   "cell_type": "code",
   "execution_count": null,
   "id": "beb23475",
   "metadata": {},
   "outputs": [],
   "source": []
  },
  {
   "cell_type": "code",
   "execution_count": null,
   "id": "29558c2c",
   "metadata": {},
   "outputs": [],
   "source": []
  },
  {
   "cell_type": "code",
   "execution_count": null,
   "id": "18d0ab06",
   "metadata": {},
   "outputs": [],
   "source": []
  },
  {
   "cell_type": "code",
   "execution_count": null,
   "id": "878af6a7",
   "metadata": {},
   "outputs": [],
   "source": []
  },
  {
   "cell_type": "code",
   "execution_count": null,
   "id": "b0bfba21",
   "metadata": {},
   "outputs": [],
   "source": []
  },
  {
   "cell_type": "code",
   "execution_count": null,
   "id": "5c16784f",
   "metadata": {},
   "outputs": [],
   "source": []
  },
  {
   "cell_type": "code",
   "execution_count": null,
   "id": "77601718",
   "metadata": {},
   "outputs": [],
   "source": []
  },
  {
   "cell_type": "code",
   "execution_count": null,
   "id": "ab080cb9",
   "metadata": {},
   "outputs": [],
   "source": []
  },
  {
   "cell_type": "code",
   "execution_count": null,
   "id": "b48447d8",
   "metadata": {},
   "outputs": [],
   "source": []
  },
  {
   "cell_type": "code",
   "execution_count": null,
   "id": "edb9af7c",
   "metadata": {},
   "outputs": [],
   "source": []
  },
  {
   "cell_type": "code",
   "execution_count": null,
   "id": "72fe36ad",
   "metadata": {},
   "outputs": [],
   "source": []
  },
  {
   "cell_type": "code",
   "execution_count": null,
   "id": "14f0384d",
   "metadata": {},
   "outputs": [],
   "source": []
  },
  {
   "cell_type": "code",
   "execution_count": null,
   "id": "498e1837",
   "metadata": {},
   "outputs": [],
   "source": []
  },
  {
   "cell_type": "code",
   "execution_count": null,
   "id": "76c629a7",
   "metadata": {},
   "outputs": [],
   "source": []
  },
  {
   "cell_type": "code",
   "execution_count": null,
   "id": "e02ba7f1",
   "metadata": {},
   "outputs": [],
   "source": []
  },
  {
   "cell_type": "code",
   "execution_count": null,
   "id": "44383745",
   "metadata": {},
   "outputs": [],
   "source": []
  },
  {
   "cell_type": "code",
   "execution_count": null,
   "id": "2b9741ad",
   "metadata": {},
   "outputs": [],
   "source": []
  },
  {
   "cell_type": "code",
   "execution_count": null,
   "id": "dc3aff50",
   "metadata": {},
   "outputs": [],
   "source": []
  },
  {
   "cell_type": "code",
   "execution_count": null,
   "id": "ae2e2b12",
   "metadata": {},
   "outputs": [],
   "source": []
  },
  {
   "cell_type": "code",
   "execution_count": null,
   "id": "c5996a91",
   "metadata": {},
   "outputs": [],
   "source": []
  },
  {
   "cell_type": "code",
   "execution_count": null,
   "id": "263a943e",
   "metadata": {},
   "outputs": [],
   "source": []
  },
  {
   "cell_type": "code",
   "execution_count": null,
   "id": "4f35bb9d",
   "metadata": {},
   "outputs": [],
   "source": []
  },
  {
   "cell_type": "code",
   "execution_count": null,
   "id": "b8b7df89",
   "metadata": {},
   "outputs": [],
   "source": []
  },
  {
   "cell_type": "code",
   "execution_count": null,
   "id": "30f42ea9",
   "metadata": {},
   "outputs": [],
   "source": []
  },
  {
   "cell_type": "code",
   "execution_count": null,
   "id": "767729aa",
   "metadata": {},
   "outputs": [],
   "source": []
  },
  {
   "cell_type": "code",
   "execution_count": null,
   "id": "90761ee8",
   "metadata": {},
   "outputs": [],
   "source": []
  },
  {
   "cell_type": "code",
   "execution_count": null,
   "id": "a8c1f957",
   "metadata": {},
   "outputs": [],
   "source": []
  },
  {
   "cell_type": "code",
   "execution_count": null,
   "id": "6107b86e",
   "metadata": {},
   "outputs": [],
   "source": []
  },
  {
   "cell_type": "code",
   "execution_count": null,
   "id": "2c9ebf59",
   "metadata": {},
   "outputs": [],
   "source": []
  },
  {
   "cell_type": "code",
   "execution_count": null,
   "id": "09c1d099",
   "metadata": {},
   "outputs": [],
   "source": []
  },
  {
   "cell_type": "code",
   "execution_count": null,
   "id": "af3d1645",
   "metadata": {},
   "outputs": [],
   "source": []
  },
  {
   "cell_type": "code",
   "execution_count": null,
   "id": "07b77d9c",
   "metadata": {},
   "outputs": [],
   "source": []
  },
  {
   "cell_type": "code",
   "execution_count": null,
   "id": "8345e51b",
   "metadata": {},
   "outputs": [],
   "source": []
  },
  {
   "cell_type": "code",
   "execution_count": null,
   "id": "a5959b0d",
   "metadata": {},
   "outputs": [],
   "source": []
  },
  {
   "cell_type": "code",
   "execution_count": null,
   "id": "eee2d071",
   "metadata": {},
   "outputs": [],
   "source": []
  },
  {
   "cell_type": "code",
   "execution_count": null,
   "id": "bb258dde",
   "metadata": {},
   "outputs": [],
   "source": []
  },
  {
   "cell_type": "code",
   "execution_count": null,
   "id": "c2476c88",
   "metadata": {},
   "outputs": [],
   "source": []
  },
  {
   "cell_type": "code",
   "execution_count": null,
   "id": "f01d4012",
   "metadata": {},
   "outputs": [],
   "source": []
  },
  {
   "cell_type": "code",
   "execution_count": null,
   "id": "cbd15ed5",
   "metadata": {},
   "outputs": [],
   "source": []
  },
  {
   "cell_type": "code",
   "execution_count": null,
   "id": "d3051a3e",
   "metadata": {},
   "outputs": [],
   "source": []
  },
  {
   "cell_type": "code",
   "execution_count": null,
   "id": "4b852580",
   "metadata": {},
   "outputs": [],
   "source": []
  },
  {
   "cell_type": "code",
   "execution_count": null,
   "id": "3f187f9d",
   "metadata": {},
   "outputs": [],
   "source": []
  },
  {
   "cell_type": "code",
   "execution_count": null,
   "id": "cbe50740",
   "metadata": {},
   "outputs": [],
   "source": []
  },
  {
   "cell_type": "code",
   "execution_count": null,
   "id": "561baba8",
   "metadata": {},
   "outputs": [],
   "source": []
  },
  {
   "cell_type": "code",
   "execution_count": null,
   "id": "0303de04",
   "metadata": {},
   "outputs": [],
   "source": []
  },
  {
   "cell_type": "code",
   "execution_count": null,
   "id": "a725bf5f",
   "metadata": {},
   "outputs": [],
   "source": []
  },
  {
   "cell_type": "code",
   "execution_count": null,
   "id": "1f9c325f",
   "metadata": {},
   "outputs": [],
   "source": []
  },
  {
   "cell_type": "code",
   "execution_count": null,
   "id": "1baa5385",
   "metadata": {},
   "outputs": [],
   "source": []
  },
  {
   "cell_type": "code",
   "execution_count": null,
   "id": "7bf3c526",
   "metadata": {},
   "outputs": [],
   "source": []
  },
  {
   "cell_type": "code",
   "execution_count": null,
   "id": "a2168e9d",
   "metadata": {},
   "outputs": [],
   "source": []
  },
  {
   "cell_type": "code",
   "execution_count": null,
   "id": "4490366a",
   "metadata": {},
   "outputs": [],
   "source": []
  },
  {
   "cell_type": "code",
   "execution_count": null,
   "id": "d4493043",
   "metadata": {},
   "outputs": [],
   "source": []
  },
  {
   "cell_type": "code",
   "execution_count": null,
   "id": "a60bf49f",
   "metadata": {},
   "outputs": [],
   "source": []
  },
  {
   "cell_type": "code",
   "execution_count": null,
   "id": "5a944d89",
   "metadata": {},
   "outputs": [],
   "source": []
  },
  {
   "cell_type": "code",
   "execution_count": null,
   "id": "422d94f8",
   "metadata": {},
   "outputs": [],
   "source": []
  },
  {
   "cell_type": "code",
   "execution_count": null,
   "id": "4cc30e28",
   "metadata": {},
   "outputs": [],
   "source": []
  },
  {
   "cell_type": "code",
   "execution_count": null,
   "id": "305453f4",
   "metadata": {},
   "outputs": [],
   "source": []
  },
  {
   "cell_type": "code",
   "execution_count": null,
   "id": "c618762d",
   "metadata": {},
   "outputs": [],
   "source": []
  },
  {
   "cell_type": "code",
   "execution_count": null,
   "id": "94377d76",
   "metadata": {},
   "outputs": [],
   "source": []
  },
  {
   "cell_type": "code",
   "execution_count": null,
   "id": "fde34268",
   "metadata": {},
   "outputs": [],
   "source": []
  },
  {
   "cell_type": "code",
   "execution_count": null,
   "id": "0f7aaf1b",
   "metadata": {},
   "outputs": [],
   "source": []
  },
  {
   "cell_type": "code",
   "execution_count": null,
   "id": "40914988",
   "metadata": {},
   "outputs": [],
   "source": []
  },
  {
   "cell_type": "code",
   "execution_count": null,
   "id": "581eb342",
   "metadata": {},
   "outputs": [],
   "source": []
  },
  {
   "cell_type": "code",
   "execution_count": null,
   "id": "f3932cac",
   "metadata": {},
   "outputs": [],
   "source": []
  },
  {
   "cell_type": "code",
   "execution_count": null,
   "id": "0cbb6e22",
   "metadata": {},
   "outputs": [],
   "source": []
  },
  {
   "cell_type": "code",
   "execution_count": null,
   "id": "fa49131d",
   "metadata": {},
   "outputs": [],
   "source": []
  },
  {
   "cell_type": "code",
   "execution_count": null,
   "id": "2fa22166",
   "metadata": {},
   "outputs": [],
   "source": []
  },
  {
   "cell_type": "code",
   "execution_count": null,
   "id": "9f02a126",
   "metadata": {},
   "outputs": [],
   "source": []
  },
  {
   "cell_type": "code",
   "execution_count": null,
   "id": "c57a713c",
   "metadata": {},
   "outputs": [],
   "source": []
  },
  {
   "cell_type": "code",
   "execution_count": null,
   "id": "c8a692e1",
   "metadata": {},
   "outputs": [],
   "source": []
  },
  {
   "cell_type": "code",
   "execution_count": null,
   "id": "c1f78a69",
   "metadata": {},
   "outputs": [],
   "source": []
  },
  {
   "cell_type": "code",
   "execution_count": null,
   "id": "d34ff422",
   "metadata": {},
   "outputs": [],
   "source": []
  }
 ],
 "metadata": {
  "kernelspec": {
   "display_name": "Python 3 (ipykernel)",
   "language": "python",
   "name": "python3"
  },
  "language_info": {
   "codemirror_mode": {
    "name": "ipython",
    "version": 3
   },
   "file_extension": ".py",
   "mimetype": "text/x-python",
   "name": "python",
   "nbconvert_exporter": "python",
   "pygments_lexer": "ipython3",
   "version": "3.9.12"
  }
 },
 "nbformat": 4,
 "nbformat_minor": 5
}
